{
  "nbformat": 4,
  "nbformat_minor": 0,
  "metadata": {
    "orig_nbformat": 2,
    "colab": {
      "name": "spammail_filter_using_LSTM2.ipynb",
      "provenance": [],
      "toc_visible": true,
      "include_colab_link": true
    },
    "kernelspec": {
      "name": "python3",
      "display_name": "Python 3"
    },
    "accelerator": "GPU"
  },
  "cells": [
    {
      "cell_type": "markdown",
      "metadata": {
        "id": "view-in-github",
        "colab_type": "text"
      },
      "source": [
        "<a href=\"https://colab.research.google.com/github/junyeon-no/spam_app/blob/master/spammail_filter_using_LSTM2.ipynb\" target=\"_parent\"><img src=\"https://colab.research.google.com/assets/colab-badge.svg\" alt=\"Open In Colab\"/></a>"
      ]
    },
    {
      "cell_type": "code",
      "metadata": {
        "colab": {
          "base_uri": "https://localhost:8080/"
        },
        "id": "n_ejpyJ8FjH9",
        "outputId": "7bfaf69d-4503-43d2-fd8d-c0eb56878f8a"
      },
      "source": [
        "!pip install konlpy"
      ],
      "execution_count": 52,
      "outputs": [
        {
          "output_type": "stream",
          "text": [
            "Requirement already satisfied: konlpy in /usr/local/lib/python3.6/dist-packages (0.5.2)\n",
            "Requirement already satisfied: colorama in /usr/local/lib/python3.6/dist-packages (from konlpy) (0.4.4)\n",
            "Requirement already satisfied: beautifulsoup4==4.6.0 in /usr/local/lib/python3.6/dist-packages (from konlpy) (4.6.0)\n",
            "Requirement already satisfied: JPype1>=0.7.0 in /usr/local/lib/python3.6/dist-packages (from konlpy) (1.2.1)\n",
            "Requirement already satisfied: lxml>=4.1.0 in /usr/local/lib/python3.6/dist-packages (from konlpy) (4.2.6)\n",
            "Requirement already satisfied: numpy>=1.6 in /usr/local/lib/python3.6/dist-packages (from konlpy) (1.19.5)\n",
            "Requirement already satisfied: tweepy>=3.7.0 in /usr/local/lib/python3.6/dist-packages (from konlpy) (3.10.0)\n",
            "Requirement already satisfied: typing-extensions; python_version < \"3.8\" in /usr/local/lib/python3.6/dist-packages (from JPype1>=0.7.0->konlpy) (3.7.4.3)\n",
            "Requirement already satisfied: six>=1.10.0 in /usr/local/lib/python3.6/dist-packages (from tweepy>=3.7.0->konlpy) (1.15.0)\n",
            "Requirement already satisfied: requests[socks]>=2.11.1 in /usr/local/lib/python3.6/dist-packages (from tweepy>=3.7.0->konlpy) (2.23.0)\n",
            "Requirement already satisfied: requests-oauthlib>=0.7.0 in /usr/local/lib/python3.6/dist-packages (from tweepy>=3.7.0->konlpy) (1.3.0)\n",
            "Requirement already satisfied: idna<3,>=2.5 in /usr/local/lib/python3.6/dist-packages (from requests[socks]>=2.11.1->tweepy>=3.7.0->konlpy) (2.10)\n",
            "Requirement already satisfied: chardet<4,>=3.0.2 in /usr/local/lib/python3.6/dist-packages (from requests[socks]>=2.11.1->tweepy>=3.7.0->konlpy) (3.0.4)\n",
            "Requirement already satisfied: certifi>=2017.4.17 in /usr/local/lib/python3.6/dist-packages (from requests[socks]>=2.11.1->tweepy>=3.7.0->konlpy) (2020.12.5)\n",
            "Requirement already satisfied: urllib3!=1.25.0,!=1.25.1,<1.26,>=1.21.1 in /usr/local/lib/python3.6/dist-packages (from requests[socks]>=2.11.1->tweepy>=3.7.0->konlpy) (1.24.3)\n",
            "Requirement already satisfied: PySocks!=1.5.7,>=1.5.6; extra == \"socks\" in /usr/local/lib/python3.6/dist-packages (from requests[socks]>=2.11.1->tweepy>=3.7.0->konlpy) (1.7.1)\n",
            "Requirement already satisfied: oauthlib>=3.0.0 in /usr/local/lib/python3.6/dist-packages (from requests-oauthlib>=0.7.0->tweepy>=3.7.0->konlpy) (3.1.0)\n"
          ],
          "name": "stdout"
        }
      ]
    },
    {
      "cell_type": "code",
      "metadata": {
        "id": "ztn_angPFf0I"
      },
      "source": [
        "import pandas as pd\n",
        "import numpy as np\n",
        "%matplotlib inline\n",
        "import matplotlib.pyplot as plt\n",
        "import re\n",
        "import urllib.request\n",
        "from konlpy.tag import Okt\n",
        "from tensorflow.keras.preprocessing.text import Tokenizer\n",
        "from tensorflow.keras.preprocessing.sequence import pad_sequences"
      ],
      "execution_count": 53,
      "outputs": []
    },
    {
      "cell_type": "code",
      "metadata": {
        "colab": {
          "base_uri": "https://localhost:8080/"
        },
        "id": "1x4p5K7FFf0N",
        "outputId": "b1408db1-fd7f-475f-c4c2-a5e3a79f7043"
      },
      "source": [
        "urllib.request.urlretrieve(\"https://raw.githubusercontent.com/e9t/nsmc/master/ratings_train.txt\", filename=\"ratings_train.txt\")\n",
        "urllib.request.urlretrieve(\"https://raw.githubusercontent.com/e9t/nsmc/master/ratings_test.txt\", filename=\"ratings_test.txt\")"
      ],
      "execution_count": 3,
      "outputs": [
        {
          "output_type": "execute_result",
          "data": {
            "text/plain": [
              "('ratings_test.txt', <http.client.HTTPMessage at 0x7fd0ed0815c0>)"
            ]
          },
          "metadata": {
            "tags": []
          },
          "execution_count": 3
        }
      ]
    },
    {
      "cell_type": "code",
      "metadata": {
        "id": "pp1OESjRFf0O",
        "colab": {
          "base_uri": "https://localhost:8080/"
        },
        "outputId": "54fb4cd8-4cde-4212-ef2c-6acb02f9a1b2"
      },
      "source": [
        "train_data = pd.read_table('ratings_train.txt')\n",
        "test_data = pd.read_table('ratings_test.txt')\n",
        "print(len(train_data))\n",
        "print(len(test_data))"
      ],
      "execution_count": 54,
      "outputs": [
        {
          "output_type": "stream",
          "text": [
            "150000\n",
            "50000\n"
          ],
          "name": "stdout"
        }
      ]
    },
    {
      "cell_type": "code",
      "metadata": {
        "colab": {
          "base_uri": "https://localhost:8080/"
        },
        "id": "E1Q9tm0rOrKr",
        "outputId": "809734a9-f191-47e7-90ab-f4526604f640"
      },
      "source": [
        "data = pd.read_csv('./sample_data/spam_ko_utf8_csv_doc.csv',encoding='utf-8')\r\n",
        "print(len(data))\r\n",
        "train_data = data[:3310]\r\n",
        "test_data = data[3310:]\r\n",
        "print(len(train_data))\r\n",
        "print(len(test_data))"
      ],
      "execution_count": 56,
      "outputs": [
        {
          "output_type": "stream",
          "text": [
            "4310\n",
            "3310\n",
            "1000\n"
          ],
          "name": "stdout"
        }
      ]
    },
    {
      "cell_type": "markdown",
      "metadata": {
        "id": "ugmfE5LDOzAa"
      },
      "source": [
        "# 새 섹션"
      ]
    },
    {
      "cell_type": "code",
      "metadata": {
        "colab": {
          "base_uri": "https://localhost:8080/"
        },
        "id": "TwW22khRFf0O",
        "outputId": "0673e64b-ef75-44af-9f17-44268e577fec"
      },
      "source": [
        "print('훈련용 리뷰 개수 :',len(train_data)) # 훈련용 리뷰 개수 출력"
      ],
      "execution_count": 66,
      "outputs": [
        {
          "output_type": "stream",
          "text": [
            "훈련용 리뷰 개수 : 3310\n"
          ],
          "name": "stdout"
        }
      ]
    },
    {
      "cell_type": "code",
      "metadata": {
        "colab": {
          "base_uri": "https://localhost:8080/"
        },
        "id": "SEKSDDryTW7p",
        "outputId": "ae3c31c3-99f1-449e-ae3f-287245cd7af2"
      },
      "source": [
        "train_data['label'] = train_data['label'].replace(['ham','spam'],[0,1])\r\n",
        "test_data['label'] = test_data['label'].replace(['ham','spam'],[0,1])\r\n"
      ],
      "execution_count": 67,
      "outputs": [
        {
          "output_type": "stream",
          "text": [
            "/usr/local/lib/python3.6/dist-packages/ipykernel_launcher.py:1: SettingWithCopyWarning: \n",
            "A value is trying to be set on a copy of a slice from a DataFrame.\n",
            "Try using .loc[row_indexer,col_indexer] = value instead\n",
            "\n",
            "See the caveats in the documentation: https://pandas.pydata.org/pandas-docs/stable/user_guide/indexing.html#returning-a-view-versus-a-copy\n",
            "  \"\"\"Entry point for launching an IPython kernel.\n",
            "/usr/local/lib/python3.6/dist-packages/ipykernel_launcher.py:2: SettingWithCopyWarning: \n",
            "A value is trying to be set on a copy of a slice from a DataFrame.\n",
            "Try using .loc[row_indexer,col_indexer] = value instead\n",
            "\n",
            "See the caveats in the documentation: https://pandas.pydata.org/pandas-docs/stable/user_guide/indexing.html#returning-a-view-versus-a-copy\n",
            "  \n"
          ],
          "name": "stderr"
        }
      ]
    },
    {
      "cell_type": "code",
      "metadata": {
        "colab": {
          "base_uri": "https://localhost:8080/",
          "height": 204
        },
        "id": "7iKkX7CAFf0P",
        "outputId": "0e34fe3d-85f0-4af4-d914-88f450916837"
      },
      "source": [
        "train_data[:5] # 상위 5개 출력"
      ],
      "execution_count": 68,
      "outputs": [
        {
          "output_type": "execute_result",
          "data": {
            "text/html": [
              "<div>\n",
              "<style scoped>\n",
              "    .dataframe tbody tr th:only-of-type {\n",
              "        vertical-align: middle;\n",
              "    }\n",
              "\n",
              "    .dataframe tbody tr th {\n",
              "        vertical-align: top;\n",
              "    }\n",
              "\n",
              "    .dataframe thead th {\n",
              "        text-align: right;\n",
              "    }\n",
              "</style>\n",
              "<table border=\"1\" class=\"dataframe\">\n",
              "  <thead>\n",
              "    <tr style=\"text-align: right;\">\n",
              "      <th></th>\n",
              "      <th>label</th>\n",
              "      <th>document</th>\n",
              "    </tr>\n",
              "  </thead>\n",
              "  <tbody>\n",
              "    <tr>\n",
              "      <th>0</th>\n",
              "      <td>1</td>\n",
              "      <td>\"[Web발신]\\n[긴급재난자금] 상품권이 도착했습니다.\\n확인해주세요.\"</td>\n",
              "    </tr>\n",
              "    <tr>\n",
              "      <th>1</th>\n",
              "      <td>0</td>\n",
              "      <td>주롱 지점까지 가세요, 미쳤어 요 .. 부기 스 앤 그레이트 월드 라 e 뷔페에서...</td>\n",
              "    </tr>\n",
              "    <tr>\n",
              "      <th>2</th>\n",
              "      <td>1</td>\n",
              "      <td>무료 받아가세요 공짜 프리 확인</td>\n",
              "    </tr>\n",
              "    <tr>\n",
              "      <th>3</th>\n",
              "      <td>1</td>\n",
              "      <td>2 번의 무료 입장권은 FA 컵 결승전 tkts 2005 년 5 월 21 일 우승...</td>\n",
              "    </tr>\n",
              "    <tr>\n",
              "      <th>4</th>\n",
              "      <td>0</td>\n",
              "      <td>U dun 말이 너무 이른 호 ... U c 벌써 ... ,,,</td>\n",
              "    </tr>\n",
              "  </tbody>\n",
              "</table>\n",
              "</div>"
            ],
            "text/plain": [
              "   label                                           document\n",
              "0      1          \"[Web발신]\\n[긴급재난자금] 상품권이 도착했습니다.\\n확인해주세요.\"\n",
              "1      0   주롱 지점까지 가세요, 미쳤어 요 .. 부기 스 앤 그레이트 월드 라 e 뷔페에서...\n",
              "2      1                                  무료 받아가세요 공짜 프리 확인\n",
              "3      1   2 번의 무료 입장권은 FA 컵 결승전 tkts 2005 년 5 월 21 일 우승...\n",
              "4      0                U dun 말이 너무 이른 호 ... U c 벌써 ... ,,,"
            ]
          },
          "metadata": {
            "tags": []
          },
          "execution_count": 68
        }
      ]
    },
    {
      "cell_type": "code",
      "metadata": {
        "colab": {
          "base_uri": "https://localhost:8080/"
        },
        "id": "PqmNaDGcFf0P",
        "outputId": "0b501e55-12ba-48d1-96dc-67ff9120373b"
      },
      "source": [
        "print('테스트용 리뷰 개수 :',len(test_data)) # 테스트용 리뷰 개수 출력"
      ],
      "execution_count": 69,
      "outputs": [
        {
          "output_type": "stream",
          "text": [
            "테스트용 리뷰 개수 : 1000\n"
          ],
          "name": "stdout"
        }
      ]
    },
    {
      "cell_type": "code",
      "metadata": {
        "colab": {
          "base_uri": "https://localhost:8080/",
          "height": 204
        },
        "id": "fqVovAIJFf0P",
        "outputId": "9f7a4259-b4fa-4bae-c054-ddded8bb3478"
      },
      "source": [
        "test_data[:5]"
      ],
      "execution_count": 70,
      "outputs": [
        {
          "output_type": "execute_result",
          "data": {
            "text/html": [
              "<div>\n",
              "<style scoped>\n",
              "    .dataframe tbody tr th:only-of-type {\n",
              "        vertical-align: middle;\n",
              "    }\n",
              "\n",
              "    .dataframe tbody tr th {\n",
              "        vertical-align: top;\n",
              "    }\n",
              "\n",
              "    .dataframe thead th {\n",
              "        text-align: right;\n",
              "    }\n",
              "</style>\n",
              "<table border=\"1\" class=\"dataframe\">\n",
              "  <thead>\n",
              "    <tr style=\"text-align: right;\">\n",
              "      <th></th>\n",
              "      <th>label</th>\n",
              "      <th>document</th>\n",
              "    </tr>\n",
              "  </thead>\n",
              "  <tbody>\n",
              "    <tr>\n",
              "      <th>3310</th>\n",
              "      <td>0</td>\n",
              "      <td>난 여자들이 항상 안전하고 이기적인 걸 알아 감사합니다. 안녕히 주무세요.,,,</td>\n",
              "    </tr>\n",
              "    <tr>\n",
              "      <th>3311</th>\n",
              "      <td>0</td>\n",
              "      <td>걱정 마세요. 화보 촬영이 잘 되셨으면 좋겠어요. 작업장에서 즐거운 시간 보내세요...</td>\n",
              "    </tr>\n",
              "    <tr>\n",
              "      <th>3312</th>\n",
              "      <td>0</td>\n",
              "      <td>나는 얼고 얼음을 갈망하고 있습니다. Fml ,,,</td>\n",
              "    </tr>\n",
              "    <tr>\n",
              "      <th>3313</th>\n",
              "      <td>0</td>\n",
              "      <td>Kay ... 우리가 벌써 나가니까 ,,,</td>\n",
              "    </tr>\n",
              "    <tr>\n",
              "      <th>3314</th>\n",
              "      <td>0</td>\n",
              "      <td>죄송합니다 레 ... 저는 메시지를 받았습니다. 이미 슬프지 않습니다. 지금 TV...</td>\n",
              "    </tr>\n",
              "  </tbody>\n",
              "</table>\n",
              "</div>"
            ],
            "text/plain": [
              "      label                                           document\n",
              "3310      0       난 여자들이 항상 안전하고 이기적인 걸 알아 감사합니다. 안녕히 주무세요.,,,\n",
              "3311      0   걱정 마세요. 화보 촬영이 잘 되셨으면 좋겠어요. 작업장에서 즐거운 시간 보내세요...\n",
              "3312      0                       나는 얼고 얼음을 갈망하고 있습니다. Fml ,,,\n",
              "3313      0                            Kay ... 우리가 벌써 나가니까 ,,,\n",
              "3314      0   죄송합니다 레 ... 저는 메시지를 받았습니다. 이미 슬프지 않습니다. 지금 TV..."
            ]
          },
          "metadata": {
            "tags": []
          },
          "execution_count": 70
        }
      ]
    },
    {
      "cell_type": "code",
      "metadata": {
        "colab": {
          "base_uri": "https://localhost:8080/"
        },
        "id": "oUgJOxcJFf0P",
        "outputId": "aff968ed-93f5-47d6-dc79-29f8421bce75"
      },
      "source": [
        "train_data['document'].nunique(), train_data['label'].nunique()\r\n",
        "# train_data['v2'].nunique(), train_data['v1'].nunique()"
      ],
      "execution_count": 71,
      "outputs": [
        {
          "output_type": "execute_result",
          "data": {
            "text/plain": [
              "(3126, 2)"
            ]
          },
          "metadata": {
            "tags": []
          },
          "execution_count": 71
        }
      ]
    },
    {
      "cell_type": "code",
      "metadata": {
        "id": "TPv8IPJiFf0Q",
        "colab": {
          "base_uri": "https://localhost:8080/"
        },
        "outputId": "22845887-14c4-4cc5-e9d1-df8fc6b9c5be"
      },
      "source": [
        "train_data.drop_duplicates(subset=['document'], inplace=True) # document 열에서 중복인 내용이 있다면 중복 제거\r\n",
        "# train_data.drop_duplicates(subset=['v2'], inplace=True) # document 열에서 중복인 내용이 있다면 중복 제거"
      ],
      "execution_count": 72,
      "outputs": [
        {
          "output_type": "stream",
          "text": [
            "/usr/local/lib/python3.6/dist-packages/ipykernel_launcher.py:1: SettingWithCopyWarning: \n",
            "A value is trying to be set on a copy of a slice from a DataFrame\n",
            "\n",
            "See the caveats in the documentation: https://pandas.pydata.org/pandas-docs/stable/user_guide/indexing.html#returning-a-view-versus-a-copy\n",
            "  \"\"\"Entry point for launching an IPython kernel.\n"
          ],
          "name": "stderr"
        }
      ]
    },
    {
      "cell_type": "code",
      "metadata": {
        "colab": {
          "base_uri": "https://localhost:8080/"
        },
        "id": "Ykt67Y8aFf0Q",
        "outputId": "9f9c2f07-6a5a-4443-ee11-d1a593cd1c38"
      },
      "source": [
        "print('총 샘플의 수 :',len(train_data))"
      ],
      "execution_count": 73,
      "outputs": [
        {
          "output_type": "stream",
          "text": [
            "총 샘플의 수 : 3126\n"
          ],
          "name": "stdout"
        }
      ]
    },
    {
      "cell_type": "code",
      "metadata": {
        "colab": {
          "base_uri": "https://localhost:8080/",
          "height": 280
        },
        "id": "Xfxu1a7-Ff0Q",
        "outputId": "88edd399-5ced-4fc2-d98e-02f29a8cba24"
      },
      "source": [
        "train_data['label'].value_counts().plot(kind = 'bar')"
      ],
      "execution_count": 74,
      "outputs": [
        {
          "output_type": "execute_result",
          "data": {
            "text/plain": [
              "<matplotlib.axes._subplots.AxesSubplot at 0x7fd0856091d0>"
            ]
          },
          "metadata": {
            "tags": []
          },
          "execution_count": 74
        },
        {
          "output_type": "display_data",
          "data": {
            "image/png": "[encoded data removed]",
            "text/plain": [
              "<Figure size 432x288 with 1 Axes>"
            ]
          },
          "metadata": {
            "tags": [],
            "needs_background": "light"
          }
        }
      ]
    },
    {
      "cell_type": "code",
      "metadata": {
        "colab": {
          "base_uri": "https://localhost:8080/"
        },
        "id": "KLSKFApCFf0Q",
        "outputId": "36306d57-6b4a-4ad4-cd78-b76dde7c7049"
      },
      "source": [
        "print(train_data.groupby('label').size().reset_index(name = 'count'))"
      ],
      "execution_count": 75,
      "outputs": [
        {
          "output_type": "stream",
          "text": [
            "   label  count\n",
            "0      0   2718\n",
            "1      1    408\n"
          ],
          "name": "stdout"
        }
      ]
    },
    {
      "cell_type": "code",
      "metadata": {
        "colab": {
          "base_uri": "https://localhost:8080/"
        },
        "id": "72bXCyM2Ff0Q",
        "outputId": "ead3cc19-937c-43ea-ec03-2807bd257ba8"
      },
      "source": [
        "print(train_data.isnull().values.any())"
      ],
      "execution_count": 76,
      "outputs": [
        {
          "output_type": "stream",
          "text": [
            "False\n"
          ],
          "name": "stdout"
        }
      ]
    },
    {
      "cell_type": "code",
      "metadata": {
        "colab": {
          "base_uri": "https://localhost:8080/"
        },
        "id": "PMmdM4DBFf0R",
        "outputId": "91bd1637-1a6e-4bbe-a240-97f0635f7535"
      },
      "source": [
        "print(train_data.isnull().sum())"
      ],
      "execution_count": 77,
      "outputs": [
        {
          "output_type": "stream",
          "text": [
            "label       0\n",
            "document    0\n",
            "dtype: int64\n"
          ],
          "name": "stdout"
        }
      ]
    },
    {
      "cell_type": "code",
      "metadata": {
        "colab": {
          "base_uri": "https://localhost:8080/",
          "height": 49
        },
        "id": "huJs73xWFf0R",
        "outputId": "ff44d157-ed95-45c8-fbd4-9a92dfb0939f"
      },
      "source": [
        "train_data.loc[train_data.document.isnull()]"
      ],
      "execution_count": 78,
      "outputs": [
        {
          "output_type": "execute_result",
          "data": {
            "text/html": [
              "<div>\n",
              "<style scoped>\n",
              "    .dataframe tbody tr th:only-of-type {\n",
              "        vertical-align: middle;\n",
              "    }\n",
              "\n",
              "    .dataframe tbody tr th {\n",
              "        vertical-align: top;\n",
              "    }\n",
              "\n",
              "    .dataframe thead th {\n",
              "        text-align: right;\n",
              "    }\n",
              "</style>\n",
              "<table border=\"1\" class=\"dataframe\">\n",
              "  <thead>\n",
              "    <tr style=\"text-align: right;\">\n",
              "      <th></th>\n",
              "      <th>label</th>\n",
              "      <th>document</th>\n",
              "    </tr>\n",
              "  </thead>\n",
              "  <tbody>\n",
              "  </tbody>\n",
              "</table>\n",
              "</div>"
            ],
            "text/plain": [
              "Empty DataFrame\n",
              "Columns: [label, document]\n",
              "Index: []"
            ]
          },
          "metadata": {
            "tags": []
          },
          "execution_count": 78
        }
      ]
    },
    {
      "cell_type": "code",
      "metadata": {
        "colab": {
          "base_uri": "https://localhost:8080/"
        },
        "id": "l6sFlXEmFf0R",
        "outputId": "6bd3138d-08fc-4e48-b1ea-81ab4aac3313"
      },
      "source": [
        "train_data = train_data.dropna(how = 'any') # Null 값이 존재하는 행 제거\n",
        "print(train_data.isnull().values.any()) # Null 값이 존재하는지 확인"
      ],
      "execution_count": 79,
      "outputs": [
        {
          "output_type": "stream",
          "text": [
            "False\n"
          ],
          "name": "stdout"
        }
      ]
    },
    {
      "cell_type": "code",
      "metadata": {
        "colab": {
          "base_uri": "https://localhost:8080/"
        },
        "id": "whgb8JWxFf0R",
        "outputId": "3490bcc4-88ea-4117-d709-642a0bada40f"
      },
      "source": [
        "print(len(train_data))"
      ],
      "execution_count": 80,
      "outputs": [
        {
          "output_type": "stream",
          "text": [
            "3126\n"
          ],
          "name": "stdout"
        }
      ]
    },
    {
      "cell_type": "code",
      "metadata": {
        "colab": {
          "base_uri": "https://localhost:8080/",
          "height": 35
        },
        "id": "YL1Kdgt1Ff0R",
        "outputId": "bb493314-2cf2-4537-d733-393079587d6f"
      },
      "source": [
        "text = 'do!!! you expect... people~ to~ read~ the FAQ, etc. and actually accept hard~! atheism?@@'\n",
        "re.sub(r'[^a-zA-Z ]', '', text) #알파벳과 공백을 제외하고 모두 제거"
      ],
      "execution_count": 81,
      "outputs": [
        {
          "output_type": "execute_result",
          "data": {
            "application/vnd.google.colaboratory.intrinsic+json": {
              "type": "string"
            },
            "text/plain": [
              "'do you expect people to read the FAQ etc and actually accept hard atheism'"
            ]
          },
          "metadata": {
            "tags": []
          },
          "execution_count": 81
        }
      ]
    },
    {
      "cell_type": "code",
      "metadata": {
        "colab": {
          "base_uri": "https://localhost:8080/",
          "height": 204
        },
        "id": "l122iNbvFf0S",
        "outputId": "ad65ad90-e788-43e4-f408-c437c0526146"
      },
      "source": [
        "train_data['document'] = train_data['document'].str.replace(\"[^ㄱ-ㅎㅏ-ㅣ가-힣 ]\",\"\")\n",
        "# 한글과 공백을 제외하고 모두 제거\n",
        "train_data[:5]"
      ],
      "execution_count": 82,
      "outputs": [
        {
          "output_type": "execute_result",
          "data": {
            "text/html": [
              "<div>\n",
              "<style scoped>\n",
              "    .dataframe tbody tr th:only-of-type {\n",
              "        vertical-align: middle;\n",
              "    }\n",
              "\n",
              "    .dataframe tbody tr th {\n",
              "        vertical-align: top;\n",
              "    }\n",
              "\n",
              "    .dataframe thead th {\n",
              "        text-align: right;\n",
              "    }\n",
              "</style>\n",
              "<table border=\"1\" class=\"dataframe\">\n",
              "  <thead>\n",
              "    <tr style=\"text-align: right;\">\n",
              "      <th></th>\n",
              "      <th>label</th>\n",
              "      <th>document</th>\n",
              "    </tr>\n",
              "  </thead>\n",
              "  <tbody>\n",
              "    <tr>\n",
              "      <th>0</th>\n",
              "      <td>1</td>\n",
              "      <td>발신긴급재난자금 상품권이 도착했습니다확인해주세요</td>\n",
              "    </tr>\n",
              "    <tr>\n",
              "      <th>1</th>\n",
              "      <td>0</td>\n",
              "      <td>주롱 지점까지 가세요 미쳤어 요  부기 스 앤 그레이트 월드 라  뷔페에서만 사용...</td>\n",
              "    </tr>\n",
              "    <tr>\n",
              "      <th>2</th>\n",
              "      <td>1</td>\n",
              "      <td>무료 받아가세요 공짜 프리 확인</td>\n",
              "    </tr>\n",
              "    <tr>\n",
              "      <th>3</th>\n",
              "      <td>1</td>\n",
              "      <td>번의 무료 입장권은  컵 결승전   년  월  일 우승을 위해 무료로 입장합니다...</td>\n",
              "    </tr>\n",
              "    <tr>\n",
              "      <th>4</th>\n",
              "      <td>0</td>\n",
              "      <td>말이 너무 이른 호    벌써</td>\n",
              "    </tr>\n",
              "  </tbody>\n",
              "</table>\n",
              "</div>"
            ],
            "text/plain": [
              "   label                                           document\n",
              "0      1                         발신긴급재난자금 상품권이 도착했습니다확인해주세요\n",
              "1      0   주롱 지점까지 가세요 미쳤어 요  부기 스 앤 그레이트 월드 라  뷔페에서만 사용...\n",
              "2      1                                  무료 받아가세요 공짜 프리 확인\n",
              "3      1    번의 무료 입장권은  컵 결승전   년  월  일 우승을 위해 무료로 입장합니다...\n",
              "4      0                                 말이 너무 이른 호    벌써  "
            ]
          },
          "metadata": {
            "tags": []
          },
          "execution_count": 82
        }
      ]
    },
    {
      "cell_type": "code",
      "metadata": {
        "colab": {
          "base_uri": "https://localhost:8080/"
        },
        "id": "_8F68VEtFf0S",
        "outputId": "41955d83-e393-48bf-d681-8639aa176633"
      },
      "source": [
        "train_data['document'].replace('', np.nan, inplace=True)\n",
        "print(train_data.isnull().sum())"
      ],
      "execution_count": 84,
      "outputs": [
        {
          "output_type": "stream",
          "text": [
            "label       0\n",
            "document    0\n",
            "dtype: int64\n"
          ],
          "name": "stdout"
        }
      ]
    },
    {
      "cell_type": "code",
      "metadata": {
        "colab": {
          "base_uri": "https://localhost:8080/",
          "height": 49
        },
        "id": "GVLWpLf5Ff0S",
        "outputId": "23b0d324-f1f8-4f1e-baa6-ff196f77f4f2"
      },
      "source": [
        "train_data.loc[train_data.document.isnull()][:5]"
      ],
      "execution_count": 85,
      "outputs": [
        {
          "output_type": "execute_result",
          "data": {
            "text/html": [
              "<div>\n",
              "<style scoped>\n",
              "    .dataframe tbody tr th:only-of-type {\n",
              "        vertical-align: middle;\n",
              "    }\n",
              "\n",
              "    .dataframe tbody tr th {\n",
              "        vertical-align: top;\n",
              "    }\n",
              "\n",
              "    .dataframe thead th {\n",
              "        text-align: right;\n",
              "    }\n",
              "</style>\n",
              "<table border=\"1\" class=\"dataframe\">\n",
              "  <thead>\n",
              "    <tr style=\"text-align: right;\">\n",
              "      <th></th>\n",
              "      <th>label</th>\n",
              "      <th>document</th>\n",
              "    </tr>\n",
              "  </thead>\n",
              "  <tbody>\n",
              "  </tbody>\n",
              "</table>\n",
              "</div>"
            ],
            "text/plain": [
              "Empty DataFrame\n",
              "Columns: [label, document]\n",
              "Index: []"
            ]
          },
          "metadata": {
            "tags": []
          },
          "execution_count": 85
        }
      ]
    },
    {
      "cell_type": "code",
      "metadata": {
        "colab": {
          "base_uri": "https://localhost:8080/"
        },
        "id": "HUNM3xyCFf0S",
        "outputId": "3c965cb4-c83a-4d52-a2e4-7b6168af576a"
      },
      "source": [
        "train_data = train_data.dropna(how = 'any')\n",
        "print(len(train_data))"
      ],
      "execution_count": 86,
      "outputs": [
        {
          "output_type": "stream",
          "text": [
            "3126\n"
          ],
          "name": "stdout"
        }
      ]
    },
    {
      "cell_type": "code",
      "metadata": {
        "colab": {
          "base_uri": "https://localhost:8080/"
        },
        "id": "EfW0R7SjFf0S",
        "outputId": "beb5cfc0-8253-4854-e9c9-da676c8f74a2"
      },
      "source": [
        "test_data.drop_duplicates(subset = ['document'], inplace=True) # document 열에서 중복인 내용이 있다면 중복 제거\n",
        "test_data['document'] = test_data['document'].str.replace(\"[^ㄱ-ㅎㅏ-ㅣ가-힣 ]\",\"\") # 정규 표현식 수행\n",
        "test_data['document'].replace('', np.nan, inplace=True) # 공백은 Null 값으로 변경\n",
        "test_data = test_data.dropna(how='any') # Null 값 제거\n",
        "print('전처리 후 테스트용 샘플의 개수 :',len(test_data))"
      ],
      "execution_count": 87,
      "outputs": [
        {
          "output_type": "stream",
          "text": [
            "전처리 후 테스트용 샘플의 개수 : 976\n"
          ],
          "name": "stdout"
        },
        {
          "output_type": "stream",
          "text": [
            "/usr/local/lib/python3.6/dist-packages/ipykernel_launcher.py:1: SettingWithCopyWarning: \n",
            "A value is trying to be set on a copy of a slice from a DataFrame\n",
            "\n",
            "See the caveats in the documentation: https://pandas.pydata.org/pandas-docs/stable/user_guide/indexing.html#returning-a-view-versus-a-copy\n",
            "  \"\"\"Entry point for launching an IPython kernel.\n",
            "/usr/local/lib/python3.6/dist-packages/ipykernel_launcher.py:2: SettingWithCopyWarning: \n",
            "A value is trying to be set on a copy of a slice from a DataFrame.\n",
            "Try using .loc[row_indexer,col_indexer] = value instead\n",
            "\n",
            "See the caveats in the documentation: https://pandas.pydata.org/pandas-docs/stable/user_guide/indexing.html#returning-a-view-versus-a-copy\n",
            "  \n",
            "/usr/local/lib/python3.6/dist-packages/pandas/core/series.py:4582: SettingWithCopyWarning: \n",
            "A value is trying to be set on a copy of a slice from a DataFrame\n",
            "\n",
            "See the caveats in the documentation: https://pandas.pydata.org/pandas-docs/stable/user_guide/indexing.html#returning-a-view-versus-a-copy\n",
            "  method=method,\n"
          ],
          "name": "stderr"
        }
      ]
    },
    {
      "cell_type": "code",
      "metadata": {
        "id": "3lQhoDEmFf0S"
      },
      "source": [
        "stopwords = ['의','가','이','은','들','는','좀','잘','걍','과','도','를','으로','자','에','와','한','하다']"
      ],
      "execution_count": 88,
      "outputs": []
    },
    {
      "cell_type": "code",
      "metadata": {
        "colab": {
          "base_uri": "https://localhost:8080/"
        },
        "id": "KtARWnmFFf0T",
        "outputId": "cf0c2935-7807-49ce-bb85-27062ebed23f"
      },
      "source": [
        "okt = Okt()\n",
        "okt.morphs('와 이런 것도 영화라고 차라리 뮤직비디오를 만드는 게 나을 뻔', stem = True)"
      ],
      "execution_count": 89,
      "outputs": [
        {
          "output_type": "execute_result",
          "data": {
            "text/plain": [
              "['오다', '이렇다', '것', '도', '영화', '라고', '차라리', '뮤직비디오', '를', '만들다', '게', '나다', '뻔']"
            ]
          },
          "metadata": {
            "tags": []
          },
          "execution_count": 89
        }
      ]
    },
    {
      "cell_type": "code",
      "metadata": {
        "id": "-dEg19uTFf0T"
      },
      "source": [
        "X_train = []\n",
        "for sentence in train_data['document']:\n",
        "    temp_X = []\n",
        "    temp_X = okt.morphs(sentence, stem=True) # 토큰화\n",
        "    temp_X = [word for word in temp_X if not word in stopwords] # 불용어 제거\n",
        "    X_train.append(temp_X)"
      ],
      "execution_count": 90,
      "outputs": []
    },
    {
      "cell_type": "code",
      "metadata": {
        "colab": {
          "base_uri": "https://localhost:8080/"
        },
        "id": "kvrnyriAFf0T",
        "outputId": "e848c047-8dc5-415b-85c0-617dfcdc5b41"
      },
      "source": [
        "print(X_train[:3])"
      ],
      "execution_count": 91,
      "outputs": [
        {
          "output_type": "stream",
          "text": [
            "[['발신', '긴급', '재난', '자금', '상품권', '도착', '확인', '해주다'], ['주', '롱', '지점', '까지', '가세', '요', '미치다', '요', '부기', '스', '앤', '그레이', '트', '월드', '라', '뷔페', '에서만', '사용', '가능', '시', '네', '거기', '더', '많다', '와트'], ['무료', '받다', '공짜', '프리', '확인']]\n"
          ],
          "name": "stdout"
        }
      ]
    },
    {
      "cell_type": "code",
      "metadata": {
        "id": "Wf3_b0OGFf0T"
      },
      "source": [
        "X_test = []\n",
        "for sentence in test_data['document']:\n",
        "    temp_X = []\n",
        "    temp_X = okt.morphs(sentence, stem=True) # 토큰화\n",
        "    temp_X = [word for word in temp_X if not word in stopwords] # 불용어 제거\n",
        "    X_test.append(temp_X)"
      ],
      "execution_count": 92,
      "outputs": []
    },
    {
      "cell_type": "code",
      "metadata": {
        "id": "M_K1MGHmFf0T"
      },
      "source": [
        "tokenizer = Tokenizer()\n",
        "tokenizer.fit_on_texts(X_train)"
      ],
      "execution_count": 93,
      "outputs": []
    },
    {
      "cell_type": "code",
      "metadata": {
        "colab": {
          "base_uri": "https://localhost:8080/"
        },
        "id": "vKmvqdPWFf0T",
        "outputId": "0d7df802-eaac-4df3-fceb-c7203848dfd5"
      },
      "source": [
        "print(tokenizer.word_index)"
      ],
      "execution_count": 94,
      "outputs": [
        {
          "output_type": "stream",
          "text": [
            "{'을': 1, '있다': 2, '당신': 3, '것': 4, '내': 5, '나': 6, '이다': 7, '수': 8, '로': 9, '에서': 10, '않다': 11, '그': 12, '보내다': 13, '없다': 14, '좋다': 15, '되다': 16, '에게': 17, '전화': 18, '말': 19, '우리': 20, '가다': 21, '늘다': 22, '지금': 23, '받다': 24, '요': 25, '그렇다': 26, '오다': 27, '보다': 28, '하고': 29, '어떻다': 30, '전화하다': 31, '알다': 32, '아니다': 33, '오늘': 34, '무료': 35, '그녀': 36, '시간': 37, '일': 38, '싶다': 39, '해': 40, '사람': 41, '고': 42, '사랑': 43, '개': 44, '때': 45, '생각': 46, '집': 47, '다': 48, '모든': 49, '메시지': 50, '더': 51, '만': 52, '시': 53, '나르다': 54, '위해': 55, '또는': 56, '난': 57, '알': 58, '같다': 59, '문자': 60, '말다': 61, '괜찮다': 62, '친구': 63, '네': 64, '저': 65, '너무': 66, '원하다': 67, '자다': 68, '많다': 69, '안녕하다': 70, '너': 71, '적': 72, '먹다': 73, '하지만': 74, '아직': 75, '번': 76, '주다': 77, '야': 78, '기다리다': 79, '해주다': 80, '그것': 81, '까지': 82, '모르다': 83, '이제': 84, '그리고': 85, '번호': 86, '밤': 87, '그래서': 88, '되어다': 89, '갈다': 90, '오': 91, '아': 92, '안': 93, '확인': 94, '안녕': 95, '대해': 96, '만나다': 97, '감사하다': 98, '그냥': 99, '얻다': 100, '분': 101, '여기': 102, '다른': 103, '좋아하다': 104, '어디': 105, '정말': 106, '다시': 107, '라고': 108, '필요하다': 109, '대한': 110, '함께': 111, '지다': 112, '월': 113, '모바일': 114, '답장': 115, '내일': 116, '일이': 117, '연락': 118, '때문': 119, '끝나다': 120, '니까': 121, '하루': 122, '다음': 123, '못': 124, '서비스': 125, '몇': 126, '거': 127, '후': 128, '주': 129, '아무': 130, '현금': 131, '들다': 132, '아침': 133, '청구': 134, '찾다': 135, '나중': 136, '게': 137, '나다': 138, '전': 139, '날': 140, '및': 141, '귀하': 142, '예': 143, '바라다': 144, '무슨': 145, '인': 146, '사용': 147, '거기': 148, '어': 149, '돈': 150, '늦다': 151, '누군가': 152, '동안': 153, '항상': 154, '만들다': 155, '돼다': 156, '두': 157, '제': 158, '죄송하다': 159, '문제': 160, '많이': 161, '긴급': 162, '처럼': 163, '언제': 164, '필요': 165, '가지': 166, '이상': 167, '중': 168, '줄': 169, '야하다': 170, '무엇': 171, '그렇게': 172, '하하': 173, '시작': 174, '선택': 175, '왜': 176, '떠나다': 177, '준비': 178, '고객': 179, '걱정': 180, '드리다': 181, '잊다': 182, '수업': 183, '행복하다': 184, '사진': 185, '보고': 186, '차': 187, '저녁': 188, '돌다': 189, '제공': 190, '새롭다': 191, '시도': 192, '벌써': 193, '뭐': 194, '걸': 195, '남자': 196, '위': 197, '모두': 198, '면': 199, '나가다': 200, '지': 201, '곧': 202, '겠다': 203, '롤': 204, '년': 205, '이번': 206, '입': 207, '가장': 208, '방법': 209, '상금': 210, '방금': 211, '멋지다': 212, '유선': 213, '나오다': 214, '하': 215, '엄마': 216, '얼마나': 217, '이미': 218, '여전하다': 219, '도착': 220, '그게': 221, '빨리': 222, '오후': 223, '계획': 224, '채팅': 225, '휴대': 226, '이라고': 227, '일찍': 228, '상': 229, '지내다': 230, '기억': 231, '점심': 232, '계속': 233, '곳': 234, '거의': 235, '축하': 236, '내다': 237, '마음': 238, '크다': 239, '하나': 240, '그립다': 241, '친애하다': 242, '일어나다': 243, '이름': 244, '길': 245, '의미': 246, '보장': 247, '게요': 248, '인생': 249, '여자': 250, '아빠': 251, '즐기다': 252, '이야기': 253, '최신': 254, '느끼다': 255, '아프다': 256, '이유': 257, '그러나': 258, '누구': 259, '니': 260, '영화': 261, '지불': 262, '서': 263, '바': 264, '님': 265, '요청': 266, '확실하다': 267, '미안하다': 268, '맞다': 269, '줄다': 270, '매우': 271, '운전': 272, '어쨌든': 273, '특별하다': 274, '새': 275, '담배': 276, '고맙다': 277, '지만': 278, '톤': 279, '기회': 280, '비용': 281, '에요': 282, '주말': 283, '음': 284, '침대': 285, '최고': 286, '미안': 287, '게임': 288, '아마': 289, '공주': 290, '개월': 291, '획득': 292, '끄다': 293, '나쁘다': 294, '물어보다': 295, '흠': 296, '메일': 297, '크리스마스': 298, '이야': 299, '중지': 300, '매주': 301, '해보다': 302, '번째': 303, '질문': 304, '먼저': 305, '버스': 306, '구독': 307, '결정': 308, '이나': 309, '오르다': 310, '조금': 311, '물건': 312, '생일': 313, '마지막': 314, '실제': 315, '방': 316, '피우다': 317, '중요하다': 318, '텍스트': 319, '예약': 320, '요금': 321, '따르다': 322, '카메라': 323, '응답': 324, '데이트': 325, '기분': 326, '인지': 327, '어제': 328, '보너스': 329, '아직도': 330, '뭔가': 331, '가입': 332, '믿다': 333, '부터': 334, '유지': 335, '섹시하다': 336, '잃다': 337, '쇼핑': 338, '웃다': 339, '걸다': 340, '머리': 341, '눈': 342, '물어': 343, '발신': 344, '코드': 345, '정보': 346, '식사': 347, '살': 348, '수도': 349, '제안': 350, '상품': 351, '여행': 352, '경우': 353, '에는': 354, '벨소리': 355, '또': 356, '계정': 357, '통화': 358, '선생님': 359, '세상': 360, '주문': 361, '추첨': 362, '목욕': 363, '라는': 364, '폰': 365, '키스': 366, '입력': 367, '약': 368, '건': 369, '와트': 370, '유효하다': 371, '충분하다': 372, '파운드': 373, '도움': 374, '소식': 375, '볼': 376, '달': 377, '쇼': 378, '표시': 379, '마': 380, '금요일': 381, '음식': 382, '대답': 383, '부르다': 384, '회신': 385, '매일': 386, '보이': 387, '가야': 388, '선물': 389, '비디오': 390, '쓰다': 391, '데': 392, '주간': 393, '세': 394, '아름답다': 395, '단어': 396, '사실': 397, '참여': 398, '앉다': 399, '쯤': 400, '이동': 401, '만날': 402, '회': 403, '레슨': 404, '왓': 405, '돌아오다': 406, '끝내다': 407, '시험': 408, '바쁘다': 409, '라이브': 410, '학교': 411, '듣다': 412, '이고': 413, '둘': 414, '걸리다': 415, '잠깐': 416, '분당': 417, '사무실': 418, '휴대폰': 419, '똥': 420, '가지다': 421, '첫': 422, '스': 423, '적용': 424, '네트워크': 425, '전송': 426, '훌륭하다': 427, '자신': 428, '진행': 429, '뭘': 430, '소녀': 431, '노래': 432, '반': 433, '중이': 434, '진짜': 435, '주소': 436, '지난': 437, '개인': 438, '영국': 439, '최대': 440, '작다': 441, '새해': 442, '직업': 443, '카를로스': 444, '생기다': 445, '합': 446, '회사': 447, '이기': 448, '이렇다': 449, '젠장': 450, '읽다': 451, '제이': 452, '그날': 453, '취소': 454, '이후': 455, '마다': 456, '만약': 457, '미치다': 458, '라': 459, '업데이트': 460, '약속': 461, '크레딧': 462, '놓치다': 463, '오전': 464, '고통': 465, '포함': 466, '사이': 467, '기르다': 468, '데리다': 469, '삶': 470, '직접': 471, '얼마': 472, '신': 473, '다운로드': 474, '콘텐츠': 475, '불다': 476, '바로': 477, '보여주다': 478, '베이비': 479, '올리다': 480, '그건': 481, '자고': 482, '누가': 483, '넌': 484, '리': 485, '정도': 486, '비명': 487, '또한': 488, '스럽다': 489, '째': 490, '느낌': 491, '문': 492, '부탁': 493, '지역': 494, '신경': 495, '내리다': 496, '꽤': 497, '설정': 498, '얘기': 499, '쉬다': 500, '감사': 501, '농담': 502, '배고프다': 503, '아이': 504, '보이다': 505, '토요일': 506, '달콤하다': 507, '노키아': 508, '처음': 509, '종료': 510, '사다': 511, '운': 512, '대다': 513, '가격': 514, '위치': 515, '퀴즈': 516, '어느': 517, '통해': 518, '다르다': 519, '리아': 520, '오지': 521, '잠시': 522, '꿈': 523, '건가': 524, '공개': 525, '아주': 526, '우': 527, '처': 528, '일어': 529, '술': 530, '참조': 531, '프로젝트': 532, '엉덩이': 533, '인도': 534, '바꾸다': 535, '가능하다': 536, '약관': 537, '지르다': 538, '즐겁다': 539, '웃음': 540, '지루하다': 541, '가족': 542, '입다': 543, '아기': 544, '슬프다': 545, '입장': 546, '거나': 547, '응': 548, '초대': 549, '아비': 550, '특별': 551, '회의': 552, '에가': 553, '달러': 554, '티켓': 555, '수집': 556, '로그인': 557, '만료': 558, '점': 559, '비': 560, '손': 561, '완전하다': 562, '터': 563, '줍다': 564, '죽다': 565, '대학': 566, '직장': 567, '가르치다': 568, '단': 569, '노트북': 570, '시계': 571, '혼자': 572, '간단하다': 573, '어젯밤': 574, '현재': 575, '놓다': 576, '명': 577, '언젠가': 578, '똑같다': 579, '방문': 580, '가져오다': 581, '아마도': 582, '놀라다': 583, '온라인': 584, '래': 585, '결혼': 586, '물다': 587, '명의': 588, '이메일': 589, '마을': 590, '대기': 591, '팔': 592, '빠지다': 593, '간다': 594, '우르': 595, '판매': 596, '근데': 597, '어렵다': 598, '첸나이': 599, '한테': 600, '마치다': 601, '타다': 602, '작업': 603, '행동': 604, '든지': 605, '배송': 606, '최선': 607, '등': 608, '상황': 609, '게이': 610, '히': 611, '배': 612, '변경': 613, '일치': 614, '플레이어': 615, '일반': 616, '배달': 617, '인터넷': 618, '은행': 619, '없이': 620, '기원': 621, '등록': 622, '오른쪽': 623, '왜냐하면': 624, '깨어나다': 625, '십': 626, '시오': 627, '기대하다': 628, '신청': 629, '어딘가': 630, '즉시': 631, '추다': 632, '할인': 633, '최소': 634, '술집': 635, '조심하다': 636, '라인': 637, '구': 638, '앞': 639, '바다': 640, '시키다': 641, '따뜻하다': 642, '자기': 643, '정오': 644, '미소': 645, '깨다': 646, '연결': 647, '소리': 648, '키': 649, '외출': 650, '궁금하다': 651, '동료': 652, '휴가': 653, '아내': 654, '기쁘다': 655, '행운': 656, '주위': 657, '보지': 658, '들어가다': 659, '경매': 660, '표준': 661, '이르다': 662, '근처': 663, '일요일': 664, '라면': 665, '그러면': 666, '남다': 667, '플레이': 668, '일부': 669, '최근': 670, '사': 671, '구매': 672, '았': 673, '약간': 674, '페이지': 675, '컴퓨터': 676, '테스트': 677, '에서는': 678, '문의': 679, '삼촌': 680, '명세서': 681, '포인트': 682, '게으르다': 683, '부분': 684, '당': 685, '부모님': 686, '이렇게': 687, '계좌': 688, '희망': 689, '노력': 690, '토이': 691, '동생': 692, '알아보다': 693, '치르다': 694, '드디어': 695, '경기': 696, '장소': 697, '취하': 698, '옆': 699, '랑': 700, '거리': 701, '으면': 702, '헤이': 703, '그거': 704, '사라지다': 705, '전혀': 706, '발렌타인': 707, '자기야': 708, '화하다': 709, '페이스': 710, '로고': 711, '세계': 712, '집다': 713, '이용': 714, '제거': 715, '월요일': 716, '물': 717, '이드': 718, '서두르다': 719, '뉴스': 720, '행복': 721, '음악': 722, '아웃': 723, '강의': 724, '달라': 725, '해결': 726, '묻다': 727, '금': 728, '추가': 729, '치다': 730, '제발': 731, '복': 732, '관리': 733, '자세하다': 734, '내용': 735, '잠': 736, '지원': 737, '맞추다': 738, '소년': 739, '비다': 740, '최대한': 741, '하나님': 742, '상점': 743, '상품권': 744, '번의': 745, '지나다': 746, '재미있다': 747, '누르다': 748, '이상하다': 749, '축복': 750, '방식': 751, '아래': 752, '공간': 753, '병원': 754, '멍청이': 755, '보통': 756, '와우': 757, '부끄럽다': 758, '도달': 759, '체크': 760, '대출': 761, '샤워': 762, '검색': 763, '소원': 764, '식별자': 765, '앱': 766, '에만': 767, '사랑스럽다': 768, '열다': 769, '공부': 770, '멈추다': 771, '피': 772, '계세': 773, '의하다': 774, '휴식': 775, '학기': 776, '가깝다': 777, '웹': 778, '사이트': 779, '깊다': 780, '무제한': 781, '울리다': 782, '잡다': 783, '클럽': 784, '만에': 785, '남기다': 786, '가져가다': 787, '멀리': 788, '주시': 789, '지도': 790, '뭔': 791, '카드': 792, '커피': 793, '이라는': 794, '스포츠': 795, '형제': 796, '요가': 797, '액세스': 798, '관심': 799, '잔고': 800, '상태': 801, '살다': 802, '이건': 803, '뜨다': 804, '북': 805, '위대하다': 806, '가득': 807, '차갑다': 808, '닫다': 809, '빌어': 810, '밖에': 811, '세부': 812, '환영': 813, '이전': 814, '뽑다': 815, '돌리다': 816, '밖': 817, '의견': 818, '심장': 819, '충전': 820, '계시다': 821, '부': 822, '오래': 823, '에게서': 824, '서다': 825, '에게도': 826, '모으다': 827, '알렉스': 828, '짧다': 829, '전달': 830, '를위': 831, '재': 832, '종이': 833, '두다': 834, '휴일': 835, '아버지': 836, '태양': 837, '돌아가다': 838, '의사': 839, '기도': 840, '알림': 841, '뿐': 842, '달다': 843, '구입': 844, '다니다': 845, '도서관': 846, '그래도': 847, '노예': 848, '수정': 849, '수요일': 850, '비밀': 851, '떨다': 852, '내내': 853, '속도': 854, '테': 855, '채우다': 856, '적어도': 857, '을해': 858, '진실': 859, '끔찍하다': 860, '누군지': 861, '상처': 862, '드': 863, '떨어지다': 864, '당첨': 865, '희다': 866, '가면': 867, '여러분': 868, '당하다': 869, '녀석': 870, '이기다': 871, '유일하다': 872, '귀엽다': 873, '처리': 874, '컬러': 875, '이며': 876, '링크': 877, '클릭': 878, '조각': 879, '정말로': 880, '피자': 881, '룸메이트': 882, '토모': 883, '캠코더': 884, '나이지리아': 885, '일어나고': 886, '틀리다': 887, '인용': 888, '움직이다': 889, '영원하다': 890, '헤어': 891, '자르다': 892, '엑스': 893, '벌다': 894, '대신': 895, '긴급하다': 896, '올': 897, '동전': 898, '상자': 899, '담당자': 900, '셨으': 901, '거짓말': 902, '으니까': 903, '공휴일': 904, '항공': 905, '편': 906, '무': 907, '타임': 908, '만이': 909, '저기': 910, '수신': 911, '얻지': 912, '연간': 913, '여성': 914, '도합': 915, '삭제': 916, '와인': 917, '답변': 918, '에도': 919, '때로는': 920, '같이': 921, '지키다': 922, '대단하다': 923, '부담': 924, '특히': 925, '너희': 926, '시부': 927, '마치': 928, '대가': 929, '과수원': 930, '며칠': 931, '천천히': 932, '시스템': 933, '물론': 934, '그다지': 935, '파트너': 936, '내려가다': 937, '배터리': 938, '정류장': 939, '최종': 940, '광고': 941, '해달라다': 942, '고치다': 943, '화': 944, '주변': 945, '정리': 946, '엔': 947, '오키': 948, '죽': 949, '고르다': 950, '아가씨': 951, '연인': 952, '드릴': 953, '데이': 954, '언니': 955, '우편물': 956, '잡초': 957, '돌보다': 958, '말씀': 959, '한숨': 960, '풀': 961, '오렌지': 962, '힘들다': 963, '밉다': 964, '친절하다': 965, '결과': 966, '스타일': 967, '사르다': 968, '캠퍼스': 969, '상당': 970, '쿠폰': 971, '요구': 972, '시기': 973, '사나': 974, '레': 975, '반응': 976, '날씨': 977, '우정': 978, '당황': 979, '반갑다': 980, '야합': 981, '얼굴': 982, '대런': 983, '들르다': 984, '뜻': 985, '일주일': 986, '느리다': 987, '바위': 988, '셨나': 989, '인사': 990, '설명': 991, '체육관': 992, '밤새다': 993, '토': 994, '노': 995, '들리다': 996, '다운': 997, '초': 998, '복용': 999, '자리': 1000, '게다가': 1001, '참석': 1002, '페': 1003, '만들어지다': 1004, '동': 1005, '버리다': 1006, '어디서': 1007, '차다': 1008, '전날': 1009, '목': 1010, '바람': 1011, '던지다': 1012, '꽃': 1013, '기술': 1014, '음성': 1015, '일어나서': 1016, '수면': 1017, '임': 1018, '쫓다': 1019, '티': 1020, '리지': 1021, '덴': 1022, '갚다': 1023, '뮤': 1024, '가스': 1025, '숫자': 1026, '연결하다': 1027, '뜨겁다': 1028, '부인': 1029, '부기': 1030, '도하': 1031, '오빠': 1032, '당연하다': 1033, '장난': 1034, '팀': 1035, '만하': 1036, '짜증나다': 1037, '포장': 1038, '확신': 1039, '답': 1040, '타이밍': 1041, '배우다': 1042, '형': 1043, '네요': 1044, '그램': 1045, '숙박': 1046, '예쁘다': 1047, '자유': 1048, '여기다': 1049, '가까이': 1050, '질': 1051, '기': 1052, '운영자': 1053, '용': 1054, '수행': 1055, '오랜': 1056, '나라': 1057, '눕다': 1058, '도깅': 1059, '연령': 1060, '뒤': 1061, '카타르': 1062, '연락처': 1063, '낫다': 1064, '심지어': 1065, '셔츠': 1066, '기쁨': 1067, '인터뷰': 1068, '메뉴': 1069, '피하': 1070, '가치': 1071, '경험': 1072, '다가': 1073, '굉장': 1074, '합류': 1075, '코스': 1076, '정착': 1077, '잔액': 1078, '거래': 1079, '향': 1080, '파일': 1081, '복사': 1082, '출시': 1083, '숭배': 1084, '리스': 1085, '진정하다': 1086, '애인': 1087, '주차': 1088, '방해': 1089, '싱글': 1090, '마약': 1091, '햇살': 1092, '푸른': 1093, '제출': 1094, '작동': 1095, '실수': 1096, '충성': 1097, '끝': 1098, '높이': 1099, '무섭다': 1100, '상상': 1101, '정상': 1102, '나머지': 1103, '글쎄': 1104, '기록': 1105, '꺼내다': 1106, '평생': 1107, '따다': 1108, '쿨': 1109, '연습': 1110, '이주': 1111, '안전하다': 1112, '게시': 1113, '망치다': 1114, '보관': 1115, '스스로': 1116, '재미': 1117, '반값': 1118, '신의': 1119, '로부터': 1120, '치': 1121, '머물다': 1122, '급하다': 1123, '선수': 1124, '요하': 1125, '죠': 1126, '운동': 1127, '집중': 1128, '으': 1129, '든': 1130, '거부': 1131, '귀': 1132, '박': 1133, '정액': 1134, '한번': 1135, '시청': 1136, '상관': 1137, '파크': 1138, '빌리다': 1139, '움': 1140, '뒤지다': 1141, '프라': 1142, '성인': 1143, '적다': 1144, '열정': 1145, '뵙다': 1146, '손가락': 1147, '화나다': 1148, '호텔': 1149, '오케이': 1150, '소유': 1151, '상기': 1152, '체중': 1153, '그만': 1154, '기차': 1155, '지치다': 1156, '아뇨': 1157, '공식': 1158, '급여': 1159, '우편': 1160, '종류': 1161, '타고': 1162, '승리': 1163, '이브': 1164, '안되다': 1165, '평소': 1166, '옵트': 1167, '섹스': 1168, '침실': 1169, '학생': 1170, '뛰다': 1171, '던': 1172, '올해': 1173, '보': 1174, '메리': 1175, '주마': 1176, '분명하다': 1177, '순간': 1178, '만을': 1179, '이내': 1180, '대부분': 1181, '단지': 1182, '내려오다': 1183, '어워드': 1184, '몸': 1185, '께': 1186, '집세': 1187, '훨씬': 1188, '렌탈': 1189, '수령': 1190, '버전': 1191, '하이': 1192, '탬파': 1193, '함': 1194, '벽': 1195, '높다': 1196, '사용자': 1197, '이해': 1198, '정확하다': 1199, '다이어트': 1200, '수금': 1201, '파다': 1202, '자유롭다': 1203, '자연': 1204, '메신저': 1205, '파티': 1206, '조용하다': 1207, '온': 1208, '바보': 1209, '논문': 1210, '케': 1211, '그때': 1212, '이지만': 1213, '디지털': 1214, '굉장하다': 1215, '모': 1216, '불과하다': 1217, '조사': 1218, '도와주다': 1219, '완료': 1220, '후미': 1221, '정': 1222, '주지': 1223, '전화기': 1224, '모드': 1225, '듣기': 1226, '크게': 1227, '색상': 1228, '별로': 1229, '주무': 1230, '쫄깃': 1231, '카페': 1232, '레디': 1233, '에너지': 1234, '자정': 1235, '암': 1236, '관': 1237, '존': 1238, '단순하다': 1239, '윙윙': 1240, '가기': 1241, '레이': 1242, '싫어하다': 1243, '잡고': 1244, '변명': 1245, '사항': 1246, '마르다': 1247, '빠르다': 1248, '해당': 1249, '릴': 1250, '소파': 1251, '베다': 1252, '덕분': 1253, '우체국': 1254, '안다': 1255, '주황색': 1256, '트': 1257, '가능': 1258, '입장권': 1259, '우승': 1260, '주가': 1261, '으로서': 1262, '선정': 1263, '공동': 1264, '철자': 1265, '꾸러기': 1266, '국가': 1267, '인가요': 1268, '마크': 1269, '설득': 1270, '사과': 1271, '쉬': 1272, '맛있다': 1273, '실행': 1274, '똑똑하다': 1275, '결코': 1276, '깨닫다': 1277, '찾기': 1278, '시네마': 1279, '더블': 1280, '비행기': 1281, '공연': 1282, '신사': 1283, '품위': 1284, '존경': 1285, '일자리': 1286, '무언가': 1287, '리도': 1288, '비밀번호': 1289, '감상': 1290, '미리': 1291, '일단': 1292, '보스턴': 1293, '남성': 1294, '두렵다': 1295, '몸무게': 1296, '보스': 1297, '아파트': 1298, '승자': 1299, '예측': 1300, '하드': 1301, '피곤': 1302, '현지': 1303, '삶다': 1304, '열심히': 1305, '애': 1306, '배치': 1307, '지옥': 1308, '가요': 1309, '전체': 1310, '만족하다': 1311, '셨기': 1312, '성공': 1313, '굿모닝': 1314, '반드시': 1315, '푸다': 1316, '인쇄': 1317, '래요': 1318, '케이스': 1319, '슬리퍼': 1320, '칼': 1321, '주일': 1322, '오기': 1323, '충격': 1324, '세우다': 1325, '심': 1326, '괴롭다': 1327, '불': 1328, '평범하다': 1329, '업그레이드': 1330, '장미': 1331, '우정은': 1332, '사지': 1333, '열쇠': 1334, '파워': 1335, '로드': 1336, '독서': 1337, '책': 1338, '훔치다': 1339, '가능성': 1340, '상사': 1341, '그런데': 1342, '서핑': 1343, '낯선': 1344, '쓸다': 1345, '예요': 1346, '끼다': 1347, '그저': 1348, '추적': 1349, '씨': 1350, '핥다': 1351, '센터': 1352, '대여': 1353, '필라테스': 1354, '따라서': 1355, '만난': 1356, '열리다': 1357, '지난주': 1358, '퐁갈': 1359, '었습니': 1360, '그룹': 1361, '개선': 1362, '흔들리다': 1363, '혜택': 1364, '철도': 1365, '나누다': 1366, '입금': 1367, '클래스': 1368, '침묵': 1369, '핀': 1370, '어린이': 1371, '의식': 1372, '무례하다': 1373, '번은': 1374, '회원': 1375, '호모': 1376, '한동안': 1377, '한다는': 1378, '건너': 1379, '뚱뚱하다': 1380, '자체': 1381, '가라': 1382, '인정': 1383, '우유': 1384, '잔': 1385, '마법': 1386, '예전': 1387, '간신히': 1388, '갈망': 1389, '때리다': 1390, '똑같이': 1391, '뱀': 1392, '화상': 1393, '두통': 1394, '재즈': 1395, '공지': 1396, '발생': 1397, '해피': 1398, '아줌마': 1399, '레오나': 1400, '재밌다': 1401, '날짜': 1402, '목요일': 1403, '봉투': 1404, '돼지': 1405, '루': 1406, '살이': 1407, '한때': 1408, '공급': 1409, '하나요': 1410, '해리': 1411, '환상': 1412, '이지': 1413, '가정': 1414, '달리': 1415, '데리': 1416, '무시': 1417, '것임': 1418, '발': 1419, '수여': 1420, '매': 1421, '인치': 1422, '즉': 1423, '맥주': 1424, '무작위': 1425, '그림': 1426, '극': 1427, '헤드': 1428, '잘못': 1429, '피우지': 1430, '감': 1431, '반지': 1432, '입찰': 1433, '놀리다': 1434, '바뀌다': 1435, '매장': 1436, '팬': 1437, '도로': 1438, '벗어나다': 1439, '즐거움': 1440, '어머니': 1441, '다가오다': 1442, '기타': 1443, '인상': 1444, '좋아지다': 1445, '띄다': 1446, '제품': 1447, '철학': 1448, '기다': 1449, '그리다': 1450, '이든': 1451, '훈련': 1452, '데릭': 1453, '바람둥이': 1454, '전국': 1455, '허다': 1456, '쪽': 1457, '기관': 1458, '점수': 1459, '원': 1460, '주의': 1461, '무겁다': 1462, '그릇': 1463, '더럽다': 1464, '하룻밤': 1465, '올바르다': 1466, '꽉': 1467, '가게': 1468, '지루': 1469, '주차장': 1470, '잖다': 1471, '유비': 1472, '뭐라다': 1473, '계약': 1474, '아이디': 1475, '먹이': 1476, '조이': 1477, '입히다': 1478, '외치다': 1479, '타': 1480, '울': 1481, '지구': 1482, '피곤하다': 1483, '흥미롭다': 1484, '블랙': 1485, '으세요': 1486, '역': 1487, '놔두다': 1488, '플러스': 1489, '이웃': 1490, '만듭니': 1491, '모습': 1492, '가입자': 1493, '쉽다': 1494, '다양하다': 1495, '예정': 1496, '중이므': 1497, '심각하다': 1498, '투어': 1499, '대접': 1500, '닿다': 1501, '사운드': 1502, '신음': 1503, '인기': 1504, '검사': 1505, '슈퍼': 1506, '댄스': 1507, '갈래': 1508, '전환': 1509, '절대': 1510, '길이': 1511, '걷다': 1512, '루넬': 1513, '도덕': 1514, '만남': 1515, '공유': 1516, '수업료': 1517, '찍다': 1518, '아이디어': 1519, '캐쉬': 1520, '불가능하다': 1521, '정제': 1522, '당장': 1523, '관련': 1524, '강하다': 1525, '넣다': 1526, '찌르다': 1527, '웠습니': 1528, '불꽃': 1529, '포옹': 1530, '들어오다': 1531, '속': 1532, '엿': 1533, '부족하다': 1534, '사건': 1535, '아깝다': 1536, '여왕': 1537, '백': 1538, '진정': 1539, '미스': 1540, '빵': 1541, '글': 1542, '의도': 1543, '항목': 1544, '인가': 1545, '사회': 1546, '목록': 1547, '청소': 1548, '금지': 1549, '요리': 1550, '쉿': 1551, '봉사': 1552, '규칙': 1553, '부스트': 1554, '오거': 1555, '추측': 1556, '중국': 1557, '억': 1558, '케이크': 1559, '시나': 1560, '빈': 1561, '러': 1562, '옷': 1563, '클레': 1564, '컬렉션': 1565, '탕감': 1566, '살해': 1567, '경찰': 1568, '살인자': 1569, '가난하다': 1570, '이사': 1571, '예산': 1572, '곁': 1573, '태우다': 1574, '적도': 1575, '디': 1576, '틱': 1577, '발자국': 1578, '롱': 1579, '지점': 1580, '가세': 1581, '그레이': 1582, '뷔페': 1583, '에서만': 1584, '공짜': 1585, '프리': 1586, '산다': 1587, '소중하다': 1588, '케이': 1589, '울다': 1590, '멤버십': 1591, '숨': 1592, '받아들이다': 1593, '의지': 1594, '골': 1595, '진지하다': 1596, '강요': 1597, '거절': 1598, '버릇': 1599, '응원': 1600, '간절하다': 1601, '부재': 1602, '예방': 1603, '타일러': 1604, '약하다': 1605, '충돌': 1606, '시설': 1607, '동굴': 1608, '방이': 1609, '패스': 1610, '짜다': 1611, '버거': 1612, '죽이다': 1613, '드레서': 1614, '귀중하다': 1615, '검토': 1616, '바치다': 1617, '에서도': 1618, '스마일': 1619, '쏟다': 1620, '달리기': 1621, '합법': 1622, '포기': 1623, '노인': 1624, '명사': 1625, '연구': 1626, '무승부': 1627, '문장': 1628, '캐빈': 1629, '선샤인': 1630, '활동': 1631, '렉': 1632, '도중': 1633, '열': 1634, '안보': 1635, '여': 1636, '섹시': 1637, '음마': 1638, '것이므': 1639, '흐르다': 1640, '플라자': 1641, '바닥': 1642, '창문': 1643, '꿈꾸다': 1644, '존재': 1645, '발표': 1646, '안전': 1647, '현실': 1648, '부럽다': 1649, '모듈': 1650, '과의': 1651, '오해': 1652, '탈출': 1653, '다리': 1654, '논의': 1655, '단서': 1656, '머무르다': 1657, '그물': 1658, '되찾다': 1659, '어딨다': 1660, '라디오': 1661, '독특하다': 1662, '저절로': 1663, '케이트': 1664, '선불': 1665, '똑바로': 1666, '쏘다': 1667, '제목': 1668, '설치': 1669, '일도': 1670, '일어나지': 1671, '올라오다': 1672, '은밀': 1673, '취합니': 1674, '감동': 1675, '안나': 1676, '이닝': 1677, '배트': 1678, '지연': 1679, '꼭': 1680, '막': 1681, '플래시': 1682, '차트': 1683, '품질': 1684, '롭': 1685, '렸어': 1686, '기절': 1687, '라도': 1688, '멍청하다': 1689, '비트': 1690, '도르다': 1691, '적절하다': 1692, '수가': 1693, '추락': 1694, '제외': 1695, '배우': 1696, '실': 1697, '가십': 1698, '차고': 1699, '고정': 1700, '회선': 1701, '서류': 1702, '스페셜': 1703, '라운드': 1704, '클리어': 1705, '도울': 1706, '아쉽다': 1707, '다치다': 1708, '려고': 1709, '이에요': 1710, '오드리': 1711, '사고': 1712, '기꺼이': 1713, '린': 1714, '착각': 1715, '신체': 1716, '회복': 1717, '배란': 1718, '지갑': 1719, '무릎': 1720, '계산': 1721, '폭력': 1722, '방문자': 1723, '관리자': 1724, '체': 1725, '까지는': 1726, '트리': 1727, '굽다': 1728, '익숙하다': 1729, '탑': 1730, '대회': 1731, '하트': 1732, '결합': 1733, '목소리': 1734, '표현': 1735, '로맨틱': 1736, '매력': 1737, '웃기': 1738, '자극': 1739, '통증': 1740, '깨우다': 1741, '익': 1742, '오레오': 1743, '지속': 1744, '실습': 1745, '감정': 1746, '겪다': 1747, '치유': 1748, '때보': 1749, '해제': 1750, '도기': 1751, '정지': 1752, '통지': 1753, '이체': 1754, '신뢰': 1755, '활성화': 1756, '영광': 1757, '신용': 1758, '싸움': 1759, '물고기': 1760, '전자': 1761, '어쩌면': 1762, '웨스트': 1763, '앤서니': 1764, '임대': 1765, '오버': 1766, '샅샅이': 1767, '용서': 1768, '경쟁': 1769, '교통': 1770, '덜': 1771, '에게는': 1772, '이베이': 1773, '이중': 1774, '늦': 1775, '귀환': 1776, '자신감': 1777, '무조건': 1778, '능력': 1779, '키우다': 1780, '결혼식': 1781, '분만': 1782, '새끼': 1783, '부족': 1784, '맹세': 1785, '재치': 1786, '작품': 1787, '프라이팬': 1788, '어리석다': 1789, '요즘': 1790, '가도': 1791, '말다툼': 1792, '지겹다': 1793, '대로': 1794, '부터는': 1795, '짓': 1796, '스코틀랜드': 1797, '경향': 1798, '과도': 1799, '닫히다': 1800, '구드': 1801, '파이': 1802, '자하': 1803, '어울리다': 1804, '색': 1805, '자주': 1806, '미래': 1807, '여러': 1808, '길다': 1809, '흥분하다': 1810, '오늘날': 1811, '만화': 1812, '교회': 1813, '화요일': 1814, '웨슬리': 1815, '마약상': 1816, '참을성': 1817, '그대로': 1818, '평화': 1819, '마시다': 1820, '스푼': 1821, '외로워': 1822, '로그': 1823, '오프': 1824, '왕': 1825, '건물': 1826, '코친': 1827, '횃불': 1828, '굵다': 1829, '사서': 1830, '스트레스': 1831, '기숙사': 1832, '플': 1833, '크기': 1834, '봄': 1835, '일당': 1836, '다음주': 1837, '할머니': 1838, '혼란': 1839, '머릿속': 1840, '갖다': 1841, '내년': 1842, '시티': 1843, '브레이크': 1844, '여름': 1845, '구직': 1846, '와이': 1847, '의사록': 1848, '쓰레기': 1849, '웠': 1850, '완벽하다': 1851, '커뮤니티': 1852, '꼬마': 1853, '그만두다': 1854, '힌트': 1855, '가방': 1856, '모델': 1857, '도비': 1858, '스타': 1859, '카푸치노': 1860, 'ㅋㅋㅋ': 1861, '녹색': 1862, '홀': 1863, '보유': 1864, '하늘': 1865, '최후': 1866, '통첩': 1867, '아부': 1868, '카운트': 1869, '잔소리': 1870, '배려': 1871, '불황': 1872, '셨습니': 1873, '모음': 1874, '연주': 1875, '내면': 1876, '불쌍하다': 1877, '진수': 1878, '천재': 1879, '시인': 1880, '평화롭다': 1881, '채다': 1882, '미국': 1883, '낮잠': 1884, '친하다': 1885, '캐스터': 1886, '주중': 1887, '소니': 1888, '마사지': 1889, '드라이브': 1890, '깁스': 1891, '허세': 1892, '실패하다': 1893, '살인': 1894, '에이전트': 1895, '마감': 1896, '테일러': 1897, '맞이': 1898, '고기': 1899, '낼': 1900, '중독': 1901, '우승자': 1902, '청바지': 1903, '구토': 1904, '의료': 1905, '날다': 1906, '조': 1907, '저렴하다': 1908, '중력': 1909, '느껴지다': 1910, '목걸이': 1911, '치킨': 1912, '망설이다': 1913, '약점': 1914, '취직': 1915, '재능': 1916, '윤아': 1917, '기적': 1918, '갈아': 1919, '모토로라': 1920, '심심하다': 1921, '건너편': 1922, '이미지': 1923, '긁다': 1924, '힘': 1925, '외국': 1926, '우표': 1927, '현명하다': 1928, '교육': 1929, '취': 1930, '프로세스': 1931, '랄라': 1932, '간': 1933, '하의': 1934, '개년': 1935, '룰': 1936, '비제': 1937, '붙이다': 1938, '슬픔': 1939, '싸우다': 1940, '증명': 1941, '카레': 1942, '만들기': 1943, '보증': 1944, '기프트': 1945, '절벽': 1946, '작': 1947, '유니': 1948, '알아내다': 1949, '우울하다': 1950, '바라지': 1951, '으로부터': 1952, '영': 1953, '홈': 1954, '타운': 1955, '편의': 1956, '잡기': 1957, '와는': 1958, '서로': 1959, '안해': 1960, '탱크': 1961, '종일': 1962, '위험': 1963, '뉴': 1964, '하므다': 1965, '옳다': 1966, '유명인': 1967, '수취': 1968, '진드기': 1969, '박사': 1970, '학위': 1971, '투자': 1972, '유럽': 1973, '중국어': 1974, '문서': 1975, '용이': 1976, '밤밤': 1977, '달콤': 1978, '엘': 1979, '자살': 1980, '임원': 1981, '저희': 1982, '트랙': 1983, '배관': 1984, '알리다': 1985, '스토킹': 1986, '감방': 1987, '접속': 1988, '인데': 1989, '골드': 1990, '베스트': 1991, '정신': 1992, '밝다': 1993, '치료': 1994, '화장실': 1995, '캐나다': 1996, '때때로': 1997, '입지': 1998, '부수': 1999, '패티': 2000, '측정': 2001, '응급': 2002, '침낭': 2003, '사슬': 2004, '끊다': 2005, '끊어지다': 2006, '체포': 2007, '변화': 2008, '야후': 2009, '작성': 2010, '사전': 2011, '가리다': 2012, '흥미': 2013, '유형': 2014, '개다': 2015, '나타나다': 2016, '발리': 2017, '번만': 2018, '사기': 2019, '투표': 2020, '옵션': 2021, '놀랍다': 2022, '성격': 2023, '검다': 2024, '라마': 2025, '시트': 2026, '판': 2027, '코트': 2028, '고통스럽다': 2029, '세다': 2030, '짓다': 2031, '레스토랑': 2032, '기능': 2033, '필사': 2034, '원숭이': 2035, '클레어': 2036, '이상은': 2037, '블': 2038, '레이크': 2039, '떼다': 2040, '내세': 2041, '필수': 2042, '순결': 2043, '덧붙이다': 2044, '에서나': 2045, '결국': 2046, '샤': 2047, '얘': 2048, '총': 2049, '별': 2050, '만큼': 2051, '피트': 2052, '풍자': 2053, '이모': 2054, '영수증': 2055, '안타깝다': 2056, '공항': 2057, '전망': 2058, '버프': 2059, '돌': 2060, '리듬': 2061, '얼음': 2062, '서브': 2063, '화가': 2064, '운명': 2065, '요리사': 2066, '깨끗하다': 2067, '수수료': 2068, '비난': 2069, '수표': 2070, '언': 2071, '동물': 2072, '호스텔': 2073, '얼다': 2074, '그동안': 2075, '생활': 2076, '런던': 2077, '널': 2078, '촬영': 2079, '허용': 2080, '책임': 2081, '이벤트': 2082, '오시': 2083, '대사': 2084, '타협': 2085, '힘드다': 2086, '시력': 2087, '남': 2088, '소수': 2089, '가나': 2090, '쟤': 2091, '자꾸': 2092, '엉망': 2093, '생선': 2094, '막다': 2095, '스틱': 2096, '시점': 2097, '프렌': 2098, '불평': 2099, '부활절': 2100, '대': 2101, '누': 2102, '일정': 2103, '언급': 2104, '아케이드': 2105, '애틀랜타': 2106, '틈새': 2107, '았으': 2108, '훌륭': 2109, '정직하다': 2110, '트리플': 2111, '감독': 2112, '생기': 2113, '패키지': 2114, '젖다': 2115, '분류': 2116, '편지': 2117, '작년': 2118, '태그': 2119, '스카이프': 2120, '속옷': 2121, '로는': 2122, '기간': 2123, '계절': 2124, '동영상': 2125, '들이다': 2126, '테이블': 2127, '눈사람': 2128, '행': 2129, '중간': 2130, '잠들다': 2131, '말고': 2132, '완성': 2133, '아바타': 2134, '가해': 2135, '을지': 2136, '수거': 2137, '출발': 2138, '힙합': 2139, '일명': 2140, '에그': 2141, '델리': 2142, '프린지': 2143, '산만하다': 2144, '바구니': 2145, '차서': 2146, '증거': 2147, '엽': 2148, '메다': 2149, '바르다': 2150, '영화관': 2151, '데려가다': 2152, '달리다': 2153, '폴리': 2154, '형편': 2155, '자동': 2156, '켜다': 2157, '장치': 2158, '영리하다': 2159, '잠자리': 2160, '고개': 2161, '용어': 2162, '호의': 2163, '베풀다': 2164, '마찬가지': 2165, '스노': 2166, '으로가': 2167, '욕': 2168, '사촌': 2169, '예술': 2170, '로스트': 2171, '수수께끼': 2172, '불만': 2173, '제기': 2174, '컴': 2175, '사람과': 2176, '이탈리안': 2177, '할로윈': 2178, '섬뜩하다': 2179, '깜짝': 2180, '깎다': 2181, '보드카': 2182, '맙소사': 2183, '하우스': 2184, '메이드': 2185, '포즈': 2186, '스위스': 2187, '정치인': 2188, '왼쪽': 2189, '밀다': 2190, '드라마': 2191, '다행': 2192, '겁니다': 2193, '조언': 2194, '씩': 2195, '부서': 2196, '지침': 2197, '죽음': 2198, '결제': 2199, '도전': 2200, '케쉬': 2201, '중순': 2202, '만일': 2203, '플로': 2204, '착하다': 2205, '관세': 2206, '스팀': 2207, '정부': 2208, '감히': 2209, '잡지': 2210, '교체': 2211, '변하다': 2212, '노랗다': 2213, '도시': 2214, '론': 2215, '샵': 2216, '렸': 2217, '괴롭히다': 2218, '우스': 2219, '오신': 2220, '살롱': 2221, '쓴다': 2222, '낭비하다': 2223, '파도': 2224, '바랬습니': 2225, '어필': 2226, '붉다': 2227, '하워드': 2228, '재난': 2229, '자금': 2230, '앤': 2231, '월드': 2232, '컵': 2233, '결승전': 2234, '호': 2235, '에이즈': 2236, '특허': 2237, '취급': 2238, '튜닝': 2239, '에이': 2240, '귀하다': 2241, '잭팟': 2242, '이행': 2243, '젖': 2244, '잉글랜드': 2245, '마케도니아': 2246, '대표팀': 2247, '월간': 2248, '그러니까': 2249, '주식': 2250, '력': 2251, '계란': 2252, '튀기다': 2253, '막연하다': 2254, '명확하다': 2255, '냉소': 2256, '탈락': 2257, '휩싸이다': 2258, '집안일': 2259, '실신': 2260, '컵파': 2261, '링톤': 2262, '보기': 2263, '보다도': 2264, '아라비아': 2265, '신장': 2266, '간염': 2267, '접종': 2268, '고집': 2269, '리카': 2270, '셰': 2271, '추구': 2272, '저축': 2273, '수료': 2274, '마찬': 2275, '로워': 2276, '지면': 2277, '타가': 2278, '정거장': 2279, '장': 2280, '자켓': 2281, '장만': 2282, '멀티': 2283, '공장': 2284, '니트로': 2285, '서지': 2286, '잡': 2287, '시간표': 2288, '비처럼': 2289, '트러블': 2290, '텔루구': 2291, '홀스': 2292, '미용사': 2293, '지정': 2294, '마인': 2295, '크래프트': 2296, '서버': 2297, '심술': 2298, '궂': 2299, '복수형': 2300, '시끄럽다': 2301, '젠트': 2302, '형식': 2303, '들어서다': 2304, '또띠야': 2305, '달걀': 2306, '감자': 2307, '비율': 2308, '미사': 2309, '사오다': 2310, '부과': 2311, '여보': 2312, '부탁드리다': 2313, '합계': 2314, '폭도': 2315, '코어': 2316, '타이핑': 2317, '파우치': 2318, '차지': 2319, '스태프': 2320, '먼지': 2321, '우박': 2322, '안개': 2323, '흥분': 2324, '문화': 2325, '라거': 2326, '형태': 2327, '클락': 2328, '낭비': 2329, '블러디': 2330, '성': 2331, '스페인어': 2332, '쇼핑몰': 2333, '신자': 2334, '들어주다': 2335, '월말': 2336, '미라': 2337, '리그': 2338, '대변': 2339, '학년': 2340, '스터': 2341, '비리다': 2342, '계정은': 2343, '리필': 2344, '슬리핑': 2345, '알터': 2346, '환불': 2347, '짐': 2348, '보람': 2349, '노레': 2350, '디스크': 2351, '수리': 2352, '낭만': 2353, '풍경': 2354, '해주시': 2355, '대화': 2356, '작일': 2357, '별표': 2358, '엄격하다': 2359, '간디': 2360, '람': 2361, '건너다': 2362, '길거리': 2363, '우회': 2364, '고무': 2365, '유혹': 2366, '위층': 2367, '에서처럼': 2368, '논쟁': 2369, '걷어차다': 2370, '호출': 2371, '청문회': 2372, '빛나다': 2373, '듭니': 2374, '옛날': 2375, '몹시': 2376, '숙면': 2377, '유치하다': 2378, '애정': 2379, '뇌물': 2380, '수지': 2381, '핸드': 2382, '셋': 2383, '딘트': 2384, '동일': 2385, '질투': 2386, '정품': 2387, '이의': 2388, '극장': 2389, '본격': 2390, '행사': 2391, '도구': 2392, '크루': 2393, '이신': 2394, '데브': 2395, '캠': 2396, '유료': 2397, '무덤': 2398, '에두': 2399, '런': 2400, '디젤': 2401, '기억나다': 2402, '택시': 2403, '냉장고': 2404, '외식': 2405, '조스': 2406, '냐고': 2407, '어조': 2408, '핏': 2409, '펑키': 2410, '책장': 2411, '자매': 2412, '고유': 2413, '케익': 2414, '길드에있': 2415, '브리스톨': 2416, '날아가다': 2417, '징조': 2418, '관점': 2419, '반납': 2420, '펜스': 2421, '독일': 2422, '고용주': 2423, '사생활': 2424, '침': 2425, '시원하다': 2426, '나니': 2427, '포도주': 2428, '손전화': 2429, '포스트': 2430, '숨다': 2431, '디스': 2432, '명성': 2433, '성교': 2434, '예레미야': 2435, '탓': 2436, '기본': 2437, '보험사': 2438, '실업자': 2439, '실직': 2440, '세인트': 2441, '앤드류스': 2442, '멀다': 2443, '춥다': 2444, '칙': 2445, '쿠치': 2446, '쿠': 2447, '새벽': 2448, '상쾌하다': 2449, '공기': 2450, '유니폼': 2451, '동의': 2452, '블루': 2453, '헤론': 2454, '긴장': 2455, '따라가다': 2456, '별거': 2457, '부엉이': 2458, '그땐': 2459, '인트': 2460, '킥복싱': 2461, '누나': 2462, '사업': 2463, '퍼': 2464, '해치다': 2465, '은총': 2466, '제의': 2467, '필드': 2468, '크림': 2469, '져서': 2470, '스토': 2471, '비참하다': 2472, '부세': 2473, '다루다': 2474, '웬디': 2475, '목표': 2476, '참가': 2477, '유치': 2478, '감성': 2479, '난잡하다': 2480, '태도': 2481, '수줍음': 2482, '아티': 2483, '배뇨': 2484, '승강기': 2485, '살리다': 2486, '소스': 2487, '료': 2488, '불화': 2489, '여정': 2490, '편곡': 2491, '크리켓': 2492, '블리': 2493, '행크': 2494, '낙관': 2495, '목적': 2496, '주택': 2497, '소유자': 2498, '입자': 2499, '송로': 2500, '버섯': 2501, '총명하다': 2502, '대처': 2503, '주고받다': 2504, '미끄러지다': 2505, '자전거': 2506, '탈': 2507, '언어': 2508, '금리': 2509, '상한': 2510, '텐션': 2511, '머': 2512, '무르': 2513, '맛보다': 2514, '타입': 2515, '보예': 2516, '희미하다': 2517, '랄프': 2518, '마르지': 2519, '주거': 2520, '재결합': 2521, '악센트': 2522, '와의': 2523, '수비': 2524, '학자': 2525, '니체': 2526, '학비': 2527, '캐릭터': 2528, '성숙하다': 2529, '스타일리시': 2530, '탄약': 2531, '갱신': 2532, '비정상': 2533, '피클': 2534, '타코': 2535, '이라서': 2536, '말라리아': 2537, '이이': 2538, '버튼': 2539, '티루': 2540, '푸르다': 2541, '유명하다': 2542, '인용구': 2543, '평평하다': 2544, '수기': 2545, '차라리': 2546, '갇히다': 2547, '초대장': 2548, '영국인': 2549, '알리바이': 2550, '걸음': 2551, '밟다': 2552, '나서다': 2553, '마침내': 2554, '욕조': 2555, '자지': 2556, '줄이다': 2557, '싸다': 2558, '살피다': 2559, '돌연변이': 2560, '킵니': 2561, '선크림': 2562, '필수품': 2563, '메이': 2564, '브라우니': 2565, '견디다': 2566, '헬스장': 2567, '실험실': 2568, '고글': 2569, '기다림': 2570, '힘겹다': 2571, '걸어가다': 2572, '춤': 2573, '꾸다': 2574, '병가': 2575, '오소': 2576, '엉뚱하다': 2577, '프로모션': 2578, '그랑프리': 2579, '니츠': 2580, '인도양': 2581, '수영': 2582, '중단': 2583, '부양': 2584, '밸런타인': 2585, '수백': 2586, '미남': 2587, '미녀': 2588, '쇼크': 2589, '곧바로': 2590, '하나로': 2591, '새싹': 2592, '음료수': 2593, '유용하다': 2594, '시장': 2595, '뚜시': 2596, '팝': 2597, '중심': 2598, '주신': 2599, '칠백': 2600, '추수': 2601, '절': 2602, '유쾌하다': 2603, '사찰': 2604, '불편하다': 2605, '온화하다': 2606, '거치다': 2607, '프리미엄': 2608, '밑': 2609, '놓이다': 2610, '회개': 2611, '카마': 2612, '경의': 2613, '호호': 2614, '웨더': 2615, '헥스': 2616, '랩': 2617, '댄서': 2618, '어차피': 2619, '약혼': 2620, '농장': 2621, '법률': 2622, '달이': 2623, '사서함': 2624, '기업가': 2625, '코퍼레이션': 2626, '수분': 2627, '탈수': 2628, '군': 2629, '데크': 2630, '학': 2631, '교수': 2632, '움직': 2633, '덜다': 2634, '퇴근': 2635, '사양': 2636, '내지': 2637, '마음가짐': 2638, '언제나': 2639, '다해': 2640, '원더': 2641, '림': 2642, '쿠키': 2643, '젤리': 2644, '일지': 2645, '교정': 2646, '공': 2647, '노유': 2648, '스테이크': 2649, '곤경': 2650, '한두': 2651, '나이트로': 2652, '깨': 2653, '남성은': 2654, '틸': 2655, '요점': 2656, '수천': 2657, '문신': 2658, '입술': 2659, '내놓다': 2660, '인식': 2661, '여유': 2662, '신앙': 2663, '진동': 2664, '숙취': 2665, '마스': 2666, '극적': 2667, '술고래': 2668, '연속': 2669, '애원': 2670, '처벌': 2671, '개봉': 2672, '꺼지다': 2673, '곡': 2674, '재다': 2675, '우후': 2676, '셀': 2677, '다사전': 2678, '맴돌다': 2679, '실망': 2680, '닉': 2681, '킹스': 2682, '콜': 2683, '도깨비': 2684, '일해': 2685, '반나절': 2686, '의상': 2687, '낙찰': 2688, '중고품': 2689, '갈릴레오': 2690, '샤인': 2691, '조금씩': 2692, 'ㅋ': 2693, '두뇌': 2694, '나이': 2695, '값': 2696, '앞서': 2697, '포괄': 2698, '한편': 2699, '사만': 2700, '경고': 2701, '위장': 2702, '트라우마': 2703, '빼다': 2704, '신발': 2705, '호랑이': 2706, '정식': 2707, '그만하다': 2708, '반품': 2709, '톡': 2710, '사귀다': 2711, '인맥': 2712, '코르벳': 2713, '분량': 2714, '벙커': 2715, '평가판': 2716, '으로는': 2717, '구멍': 2718, '구원': 2719, '셰익스피어': 2720, '셰실': 2721, '리버풀': 2722, '통금': 2723, '오일': 2724, '권한': 2725, '마이크': 2726, '보나': 2727, '커터': 2728, '색깔': 2729, '뉴욕': 2730, '실험': 2731, '미결': 2732, '송장': 2733, '가르다': 2734, '칠': 2735, '냄새': 2736, '최악': 2737, '찰스': 2738, '북마크': 2739, '핫': 2740, '저렴': 2741, '구역질': 2742, '칩': 2743, '마인더': 2744, '애슐리': 2745, '윌': 2746, '외치': 2747, '차례': 2748, '블로깅': 2749, '대안': 2750, '이리저리': 2751, '어깨': 2752, '몸부림': 2753, '전이': 2754, '페이팔': 2755, '코인': 2756, '구명': 2757, '주머니': 2758, '이드를': 2759, '갑자기': 2760, '도해': 2761, '오군': 2762, '린데': 2763, '유용': 2764, '가오': 2765, '반하다': 2766, '가볍다': 2767, '단순': 2768, '해지': 2769, '웰프': 2770, '은퇴': 2771, '정렬': 2772, '차드': 2773, '체조': 2774, '기독교인': 2775, '야간': 2776, '에게만': 2777, '적성': 2778, '의향': 2779, '경마': 2780, '라이스': 2781, '나이트': 2782, '었는지': 2783, '노트': 2784, '초콜릿': 2785, '수색': 2786, '잠재력': 2787, '도보': 2788, '시내': 2789, '자바': 2790, '렸는': 2791, '아이린': 2792, '크레스': 2793, '테크': 2794, '시로': 2795, '편안하다': 2796, '스트라이프': 2797, '스커트': 2798, '예수': 2799, '앞두다': 2800, '에스컬레이터': 2801, '뿌리다': 2802, '숙모': 2803, '헬렌': 2804, '모이다': 2805, '파나소닉': 2806, '붙잡다': 2807, '영웅': 2808, '사주다': 2809, '애호가': 2810, '왓츠': 2811, '뷔': 2812, '스러운': 2813, '기념일': 2814, '만족스럽다': 2815, '기념품': 2816, '패턴': 2817, '었나': 2818, '예스': 2819, '바스': 2820, '유모': 2821, '미보': 2822, '이불': 2823, '니트': 2824, '에디슨': 2825, '나아': 2826, '찾아보다': 2827, '경력': 2828, '킥': 2829, '야회': 2830, '데이터': 2831, '분석': 2832, '호전': 2833, '비교': 2834, '바이올렛': 2835, '네트워킹': 2836, '분야': 2837, '이틀': 2838, '마무리': 2839, '끝내': 2840, '치과': 2841, '쥬스': 2842, '입욕': 2843, '즙': 2844, '간호사': 2845, '비만': 2846, '오예': 2847, '오이': 2848, '조각품': 2849, '안부': 2850, '수리야': 2851, '포': 2852, '키리': 2853, '뎀': 2854, '떠오르다': 2855, '꿀': 2856, '호흡': 2857, '와도': 2858, '딸': 2859, '칭찬': 2860, '삼바': 2861, '바늘': 2862, '주걱': 2863, '박스': 2864, '유효': 2865, '캘리': 2866, '복잡': 2867, '성은': 2868, '세금': 2869, '무니': 2870, '라이더': 2871, '엘비스': 2872, '프레슬리': 2873, '초조하다': 2874, '스트립': 2875, '행진': 2876, '성합': 2877, '암탉': 2878, '그네': 2879, '이탈리아': 2880, '수학': 2881, '도니': 2882, '더반': 2883, '시야': 2884, '평가': 2885, '스피드': 2886, '설문': 2887, '러브': 2888, '레터': 2889, '오류': 2890, '어려움': 2891, '그늘': 2892, '오래전': 2893, '향후': 2894, '마케팅': 2895, '잡히다': 2896, '처녀': 2897, '성적': 2898, '케이틀린': 2899, '보모': 2900, '코멘트': 2901, '채식': 2902, '윤': 2903, '트뤼플': 2904, '열기구': 2905, '멜로디': 2906, '훤히': 2907, '생명력': 2908, '섬': 2909, '록': 2910, '달려들다': 2911, '매달리다': 2912, '살아나다': 2913, '롯': 2914, '팝콘': 2915, '요르단': 2916, '아르바이트': 2917, '이해해': 2918, '수라': 2919, '외': 2920, '안기다': 2921, '월마트': 2922, '합격': 2923, '케시': 2924, '노화': 2925, '방지': 2926, '글로벌': 2927, '펍에있': 2928, '빼앗다': 2929, '웨스턴': 2930, '랜드': 2931, '안도': 2932, '대기실': 2933, '유리': 2934, '전시회': 2935, '니노': 2936, '칙쿠': 2937, '암도': 2938, '허니': 2939, '스템': 2940, '동성애자': 2941, '라가': 2942, '곤충': 2943, '성추행': 2944, '악한': 2945, '산성': 2946, '리믹스': 2947, '반죽': 2948, '주어': 2949, '제어': 2950, '무음': 2951, '오호': 2952, '프로필': 2953, '인용문': 2954, '이륙': 2955, '보증금': 2956, '증명서': 2957, '생년': 2958, '월일': 2959, '이루다': 2960, '목적지': 2961, '패드': 2962, '쓸모없다': 2963, '참신하다': 2964, '아이템': 2965, '이라': 2966, '나아지다': 2967, '티셔츠': 2968, '깨뜨리다': 2969, '소프트웨어': 2970, '개발자': 2971, '뮤직': 2972, '원래': 2973, '사업자': 2974, '조만간': 2975, '산산조각': 2976, '정답': 2977, '어둡다': 2978, '일링': 2979, '포터': 2980, '불사조': 2981, '기사단': 2982, '권': 2983, '독자': 2984, '덥다': 2985, '마이너스': 2986, '문단': 2987, '커버': 2988, '영역': 2989, '지체': 2990, '년대': 2991, '풀다': 2992, '시리아': 2993, '내기': 2994, '도끼': 2995, '외과': 2996, '한국인': 2997, '파': 2998, '세스': 2999, '티엠포': 3000, '묵다': 3001, '자비': 3002, '상하': 3003, '주된': 3004, '베리': 3005, '증기선': 3006, '말합': 3007, '리버': 3008, '전령': 3009, '바베큐': 3010, '화면': 3011, '부드럽다': 3012, '롭습니': 3013, '업로드': 3014, '후안': 3015, '팔이': 3016, '약해지다': 3017, '태클': 3018, '다림질': 3019, '더미': 3020, '갈고': 3021, '채': 3022, '뮤즈': 3023, '효과': 3024, '아끼다': 3025, '패배': 3026, '베타': 3027, '로그온': 3028, '비공식': 3029, '곳도': 3030, '창백하다': 3031, '달빛': 3032, '실현': 3033, '은색': 3034, '스프레드': 3035, '용무': 3036, '기고': 3037, '다트': 3038, '컨디션': 3039, '트레블': 3040, '다섯': 3041, '대담하다': 3042, '듀오': 3043, '죄책감': 3044, '시르다': 3045, '카디프': 3046, '애디': 3047, '싱싱하다': 3048, '더킹': 3049, '친칠라': 3050, '스타트': 3051, '럼머': 3052, '옵틴': 3053, '로서': 3054, '지니': 3055, '스파이': 3056, '데려오다': 3057, '허락': 3058, '건드리다': 3059, '커민': 3060, '불가사의': 3061, '청소년': 3062, '네이처': 3063, '발열': 3064, '소량': 3065, '지켜보다': 3066, '수강': 3067, '간의': 3068, '웰': 3069, '엿먹': 3070, '적립': 3071, '랑은': 3072, '감기': 3073, '비타민': 3074, '드라이빙': 3075, '채널': 3076, '일간': 3077, '리더십': 3078, '심령': 3079, '호스트': 3080, '기반': 3081, '변환기': 3082, '노래방': 3083, '말고는': 3084, '핸드폰': 3085, '챔피언': 3086, '글래스고': 3087, '아티스트': 3088, '탐색': 3089, '직원': 3090, '나이키': 3091, '댕': 3092, '여동생': 3093, '노드스트롬': 3094, '기자': 3095, '회견': 3096, '금융': 3097, '소용': 3098, '두드': 3099, '늙다': 3100, '라이덴': 3101, '남쪽': 3102, '리라': 3103, '바람직하다': 3104, '케거': 3105, '체치': 3106, '토트': 3107, '확립': 3108, '루하': 3109, '선의': 3110, '휘발유': 3111, '갱단': 3112, '대자연': 3113, '모험': 3114, '천': 3115, '팩': 3116, '듀드': 3117, '선': 3118, '루프': 3119, '튀어': 3120, '숨기다': 3121, '소문': 3122, '코': 3123, '겁나다': 3124, '사탄': 3125, '극복': 3126, '동반': 3127, '경': 3128, '청자': 3129, '주최': 3130, '공감': 3131, '용다': 3132, '지능': 3133, '심리학자': 3134, '해충': 3135, '제자': 3136, '정신과': 3137, '리스트': 3138, '드라이버': 3139, '레오나르도': 3140, '즈음': 3141, '가주': 3142, '실용': 3143, '넘어지다': 3144, '안고': 3145, '빌다': 3146, '밀러': 3147, '영혼': 3148, '불태': 3149, '커다랗다': 3150, '신혼': 3151, '복장': 3152, '처가': 3153, '올림픽': 3154, '제입': 3155, '레오': 3156, '야생': 3157, '담그다': 3158, '스럽게': 3159, '만지다': 3160, '셨': 3161, '상하이': 3162, '상이': 3163, '프링': 3164, '온스': 3165, '벗기다': 3166, '지지': 3167, '순이': 3168, '굳이': 3169, '헷갈리다': 3170, '홀리데이': 3171, '음란': 3172, '비추다': 3173, '끊임없다': 3174, '보살피다': 3175, '프랑스': 3176, '코미디': 3177, '웃': 3178, '남자에게': 3179, '앞장서다': 3180, '다소': 3181, '부러지다': 3182, '자발': 3183, '조치': 3184, '주즈': 3185, '장의': 3186, '밖에도': 3187, '파트너쉽': 3188, '주도': 3189, '사원': 3190, '대체로': 3191, '비웃다': 3192, '차원': 3193, '고가': 3194, '월별': 3195, '쪼그리다': 3196, '볼드': 3197, '램프': 3198, '소나타': 3199, '솔': 3200, '포커': 3201, '강간': 3202, '감량': 3203, '버': 3204, '마르고': 3205, '이니까': 3206, '기준': 3207, '킬로': 3208, '맛': 3209, '체증': 3210, '얄팍하다': 3211, '슬립': 3212, '뭉치': 3213, '전문점': 3214, '앨범': 3215, '스테레오': 3216, '밝혀지다': 3217, '급우': 3218, '끌다': 3219, '선교사': 3220, '강아지': 3221, '으로도': 3222, '휴': 3223, '로리': 3224, '페스': 3225, '의거': 3226, '음질': 3227, '양도': 3228, '지느러미': 3229, '바하마': 3230, '크루즈': 3231, '안팎': 3232, '학설': 3233, '습관': 3234, '부가': 3235, '따라오다': 3236, '늦추다': 3237, '딜립': 3238, '매번': 3239, '만단': 3240, '교과서': 3241, '건데': 3242, '알고리즘': 3243, '염두': 3244, '리기': 3245, '제나': 3246, '콘솔': 3247, '안함': 3248, '만드': 3249, '셨는': 3250, '수상하다': 3251, '가짜': 3252, '절망': 3253, '공군': 3254, '이라크': 3255, '아프가니스탄': 3256, '안정': 3257, '너무나도': 3258, '빠이': 3259, '결합합': 3260, '앉히다': 3261, '선미': 3262, '슈렉': 3263, '완': 3264, '테레사': 3265, '처치': 3266, '뺨': 3267, '물리다': 3268, '자국': 3269, '남편': 3270, '백도어': 3271, '자료': 3272, '텔리': 3273, '미아': 3274, '엘리엇': 3275, '페덱스': 3276, '리셉션': 3277, '피로': 3278, '깨끗이': 3279, '싫다': 3280, '성가시다': 3281, '합의': 3282, '주기': 3283, '지저분하다': 3284, '여기저기': 3285, '빨래': 3286, '브래지어': 3287, '흩어지다': 3288, '베개': 3289, '불공평': 3290, '압니': 3291, '꿇다': 3292, '드러내다': 3293, '당기다': 3294, '사악하다': 3295, '우물': 3296, '재생': 3297, '존틴': 3298, '당사': 3299, '펜': 3300, '다시다': 3301, '마스터': 3302, '니콜스': 3303, '형님': 3304, '껍질': 3305, '무의식': 3306, '불행하다': 3307, '조깅': 3308, '건조': 3309, '극도': 3310, '보호': 3311, '원문': 3312, '지루함': 3313, '남지': 3314, '낙하산': 3315, '아이팟': 3316, '몇몇': 3317, '람다': 3318, '천사': 3319, '눈싸움': 3320, '베': 3321, '코즈': 3322, '처방전': 3323, '약국': 3324, '전기': 3325, '꾸짖다': 3326, '청나라': 3327, '전류': 3328, '오십': 3329, '고혈압': 3330, '프롬': 3331, '프트': 3332, '꼼꼼하다': 3333, '우선': 3334, '순위': 3335, '엑스터시': 3336, '치고': 3337, '파리': 3338, '반사': 3339, '작용': 3340, '안좋다': 3341, '고양이': 3342, '왈레': 3343, '서서': 3344, '제인': 3345, '공제': 3346, '멍키': 3347, '개자식': 3348, '회수': 3349, '신도': 3350, '깃털': 3351, '인프라': 3352, '월드컵': 3353, '알몸': 3354, '무역': 3355, '동일하다': 3356, '상단': 3357, '리프트': 3358, '커트': 3359, '롤부': 3360, '웃기다': 3361, '남아프리카': 3362, '땅': 3363, '수년': 3364, '시리즈': 3365, '그릴': 3366, '역할': 3367, '출생': 3368, '쫓아내다': 3369, '책임감': 3370, '티아': 3371, '미리보기': 3372, '반대': 3373, '가벼워지다': 3374, '키티': 3375, '면도': 3376, '퍼트': 3377, '포테이토': 3378, '차야': 3379, '타석': 3380, '비결': 3381, '시리얼': 3382, '캘리컷': 3383, '웬': 3384, '몹': 3385, '재촉': 3386, '그림자': 3387, '사이드': 3388, '빨강': 3389, '보라색': 3390, '핑크': 3391, '초록색': 3392, '맏': 3393, '위더': 3394, '성별': 3395, '원더풀': 3396, '풍': 3397, '성하다': 3398, '플래그': 3399, '제이슨': 3400, '업체': 3401, '주사위': 3402, '미술': 3403, '시뮬레이션': 3404, '트이다': 3405, '문지르다': 3406, '라라': 3407, '예비': 3408, '전원': 3409, '교환': 3410, '스탬프': 3411, '찍히다': 3412, '끄덕이다': 3413, '한주': 3414, '라이언': 3415, '지방': 3416, '스털링': 3417, '두르다': 3418, '다이아몬드': 3419, '엄청나다': 3420, '테시': 3421, '럽습니': 3422, '매뉴얼': 3423, '암호': 3424, '두기': 3425, '희생': 3426, '기울이다': 3427, '창의력': 3428, '눌': 3429, '모르핀': 3430, '데이브': 3431, '만족': 3432, '와아': 3433, '앗': 3434, '나무': 3435, '마일': 3436, '귀염둥이': 3437, '언덕': 3438, '무드': 3439, '전문화': 3440, '노동': 3441, '샤코': 3442, '카라': 3443, '거지': 3444, '운전자': 3445, '박살': 3446, '함몰': 3447, '원본': 3448, '터지다': 3449, '이부프로펜': 3450, '어른': 3451, '차이나': 3452, '솥밥': 3453, '참마': 3454, '벌훈': 3455, '싸구려': 3456, '앤톡': 3457, '클린': 3458, '특정하다': 3459, '구글링': 3460, '크로스': 3461, '모슬리': 3462, '보류': 3463, '우송': 3464, '존중': 3465, '귀중': 3466, '다만': 3467, '봉오리': 3468, '거룩하다': 3469, '모에': 3470, '콜라주': 3471, '허리': 3472, '선반': 3473, '거울': 3474, '경이': 3475, '롭고': 3476, '선호': 3477, '앨리': 3478, '조드': 3479, '개정': 3480, '교훈': 3481, '거들다': 3482, '두드리다': 3483, '넬슨': 3484, '체온': 3485, '가까워지다': 3486, '에게가': 3487, '또띠아': 3488, '수프': 3489, '냠냠': 3490, '사기꾼': 3491, '반기': 3492, '영업': 3493, '위협': 3494, '닥터스': 3495, '라운지': 3496, '역할극': 3497, '진실로': 3498, '위로': 3499, '전용': 3500, '포지션': 3501, '무의미': 3502, '가보다': 3503, '콜드': 3504, '텔레비전': 3505, '스튜디오': 3506, '마킹': 3507, '거대하다': 3508, '미드': 3509, '팔다': 3510, '남부': 3511, '제스': 3512, '그리기': 3513, '걸이': 3514, '다야': 3515, '콘월': 3516, '공작': 3517, '스트리트': 3518, '담요': 3519, '수십': 3520, '늙은이': 3521, '비치': 3522, '예상': 3523, '오랫동안': 3524, '재정': 3525, '알리': 3526, '세기': 3527, '불필요하다': 3528, '다정하다': 3529, '온갖': 3530, '제한': 3531, '가로': 3532, '입단': 3533, '해명': 3534, '편하다': 3535, '후회': 3536, '코임': 3537, '토르': 3538, '모노': 3539, '카테고리': 3540, '인구': 3541, '민족성': 3542, '트럭': 3543, '그대': 3544, '음주': 3545, '스토리': 3546, '파라': 3547, '곤': 3548, '핫케익': 3549, '진진': 3550, '완벽': 3551, '위스키': 3552, '브랜디': 3553, '럼': 3554, '진': 3555, '스카치': 3556, '샴페인': 3557, '혈당': 3558, '혈압': 3559, '범위': 3560, '멍청': 3561, '병': 3562, '도망': 3563, '슬론하': 3564, '틀다': 3565, '눈물': 3566, '닦다': 3567, '신고': 3568, '심문': 3569, '가드': 3570, '채소': 3571, '놀이': 3572, '가보': 3573, '빗': 3574, '드라이어': 3575, '과학': 3576, '푸시': 3577, '타자': 3578, '졸라': 3579, '오프라인': 3580, '락': 3581, '예치': 3582, '과세': 3583, '인디언': 3584, '서든': 3585, '차선': 3586, '전력': 3587, '시민': 3588, '매달': 3589, '부유': 3590, '부패하다': 3591, '권리': 3592, '아저씨': 3593, '안내': 3594, '급류': 3595, '어떡하다': 3596, '허니문': 3597, '커밋': 3598, '밝아지다': 3599, '브럼': 3600, '득점': 3601, '망하다': 3602, '편집증': 3603, '팔리다': 3604, '제대로': 3605, '도움말': 3606, '유': 3607, '금액': 3608, '수간': 3609, '디저트': 3610, '수익': 3611, '스폰서': 3612, '확보': 3613, '가가': 3614, '로즈': 3615, '물이': 3616, '상상력': 3617, '취업': 3618, '싣다': 3619, '플러시': 3620, '가구': 3621, '자물쇠': 3622, '잠그다': 3623, '바르셀로나': 3624, '팬시': 3625, '정글': 3626, '한자': 3627, '이슬비': 3628, '곱다': 3629, '분투': 3630, '자존심': 3631, '코사인': 3632, '내야': 3633, '보상': 3634, '우수하다': 3635, '영어': 3636, '이력서': 3637, '자동차': 3638, '고리': 3639, '삭감': 3640, '배송비': 3641, '자립': 3642, '붙이': 3643, '마가': 3644, '소품': 3645, '보그': 3646, '화려하다': 3647, '항': 3648, '영주권': 3649, '친척': 3650, '결': 3651, '월액': 3652, '졸업': 3653, '시경': 3654, '축적': 3655, '프로그램': 3656, '패키징': 3657, '동참': 3658, '통과': 3659, '환경': 3660, '솔직하다': 3661, '미니': 3662, '빨': 3663, '라서': 3664, '프레': 3665, '궁극': 3666, '동기': 3667, '부여': 3668, '달성': 3669, '부두': 3670, '배다': 3671, '운전대': 3672, '플루트': 3673, '워드': 3674, '측면': 3675, '타로': 3676, '연애': 3677, '까지만': 3678, '졸다': 3679, '식': 3680, '멤버': 3681, '난소': 3682, '낭': 3683, '축소': 3684, '유인원': 3685, '맞서다': 3686, '으쓱': 3687, '오징어': 3688, '식당': 3689, '주연': 3690, '순진하다': 3691, '순': 3692, '귀찮다': 3693, '여분': 3694, '아하': 3695, '혼': 3696, '연구소': 3697, '스톰': 3698, '디테': 3699, '기껏': 3700, '몰수': 3701, '디지캠': 3702, '사드': 3703, '참다': 3704, '정기': 3705, '검진': 3706, '자궁': 3707, '경부': 3708, '고비': 3709, '재학': 3710, '팬디': 3711, '아르헨티나': 3712, '비서': 3713, '택스': 3714, '타이': 3715, '대비': 3716, '전리품': 3717, '흔들다': 3718, '카딤': 3719, '나알': 3720, '루쿠': 3721, '남아': 3722, '히트': 3723, '순종': 3724, '조합': 3725, '궁핍하다': 3726, '샘프': 3727, '턴': 3728, '도어': 3729, '레이싱': 3730, '나가르': 3731, '오라': 3732, '슬롯': 3733, '모형': 3734, '에릭슨': 3735, '서리': 3736, '치즈': 3737, '편이': 3738, '나체': 3739, '주의자': 3740, '테마': 3741, '아뇨하': 3742, '가솔린': 3743, '펌핑': 3744, '집의': 3745, '신호': 3746, '드물다': 3747, '씌우다': 3748, '넘기다': 3749, '성장하다': 3750, '영구': 3751, '개발': 3752, '레귤러': 3753, '진급': 3754, '유가': 3755, '하녀': 3756, '헤어지다': 3757, '뇌': 3758, '뭉개': 3759, '툰데': 3760, '임무': 3761, '고급': 3762, '졸리다': 3763, '머리카락': 3764, '왈리': 3765, '어니언': 3766, '약물': 3767, '남용': 3768, '리포': 3769, '넷플릭스': 3770, '오스카': 3771, '더하기': 3772, '기호': 3773, '낮다': 3774, '신중하다': 3775, '기혼': 3776, '스타디움': 3777, '축구': 3778, '킹': 3779, '코카콜라': 3780, '라지': 3781, '어둠': 3782, '에스': 3783, '배기': 3784, '중앙': 3785, '부품': 3786, '캐시': 3787, '타요': 3788, '파라세타몰': 3789, '오줌': 3790, '결론': 3791, '표지': 3792, '께서': 3793, '럭비': 3794, '선언서': 3795, '법정': 3796, '기어': 3797, '피버': 3798, '소나기': 3799, '라이': 3800, '사랑받다': 3801, '황금': 3802, '아들': 3803, '인터': 3804, '이빨': 3805, '외향': 3806, '기미': 3807, '낮': 3808, '심하다': 3809, '기침': 3810, '주사': 3811, '가득하다': 3812, '여드름': 3813, '땀': 3814, '흘리다': 3815, '음식점': 3816, '음료': 3817, '야심': 3818, '찬': 3819, '개구리': 3820, '와이프': 3821, '쪽지': 3822, '복수': 3823, '일본': 3824, '속담': 3825, '스트라이크': 3826, '하라': 3827, '직면': 3828, '공중': 3829, '드니': 3830, '이하': 3831, '춤추다': 3832, '명시': 3833, '스미스': 3834, '웨': 3835, '이스트': 3836, '숙이다': 3837, '삼나무': 3838, '먹이다': 3839, '열차': 3840, '더럼': 3841, '지정석': 3842, '프린터': 3843, '그루비': 3844, '그루': 3845, '빙': 3846, '임대료': 3847, '혹시': 3848, '쇼룸': 3849, '회담': 3850, '견본': 3851, '드레스': 3852, '구성': 3853, '아픔': 3854, '딱': 3855, '여름날': 3856, '하얗다': 3857, '광경': 3858, '우와': 3859, '어떻': 3860, '주입': 3861, '민트': 3862, '인간': 3863, '만으로': 3864, '찌그러지다': 3865, '로코': 3866, '열광': 3867, '줄줄이': 3868, '넵': 3869, '벽난로': 3870, '아이콘': 3871, '족제비': 3872, '엑': 3873, '게리': 3874, '중고': 3875, '기계': 3876, '좆': 3877, '무지하다': 3878, '브루스': 3879, '플레쳐': 3880, '안남다': 3881, '과자': 3882, '아늑': 3883, '가슴': 3884, '버즈': 3885, '진동기': 3886, '단체': 3887, '핵융합': 3888, '간략하다': 3889, '역사': 3890, '자보': 3891, '미치광이': 3892, '차리다': 3893, '부풀다': 3894, '볼록': 3895, '재료': 3896, '간단': 3897, '선생': 3898, '꽝': 3899, '프로': 3900, '재부팅': 3901, '그라인더': 3902, '바이어': 3903, '명단': 3904, '평상시': 3905, '벗겨지다': 3906, '루이': 3907, '승차': 3908, '라일': 3909, '얜': 3910, '분하다': 3911, '후반': 3912, '커지다': 3913, '포털': 3914, '일인': 3915, '쾌락': 3916, '레논': 3917, '고려': 3918, '해안': 3919, '지우다': 3920, '여우': 3921, '냐': 3922, '맹장': 3923, '툿': 3924, '담기다': 3925, '주제': 3926, '된거': 3927, '수많다': 3928, '심술쟁이': 3929, '안드로스': 3930, '이사야': 3931, '넘치다': 3932, '성기': 3933, '감각': 3934, '전문가': 3935, '빛': 3936, '오직': 3937, '과정': 3938, '단단하다': 3939, '포럼': 3940, '빅터': 3941, '힐': 3942, '윈터': 3943, '스톤': 3944, '지나가다': 3945, '오싹하다': 3946, '사제': 3947, '해도': 3948, '만기': 3949, '금은': 3950, '침입': 3951, '등록금': 3952, '훈': 3953, '산책': 3954, '지난달': 3955, '블로그': 3956, '네빌': 3957, '애비': 3958, '로저': 3959, '각': 3960, '클래식': 3961, '클립': 3962, '저리': 3963, '트왓': 3964, '갑판': 3965, '펀치': 3966, '포르노': 3967, '체인': 3968, '풀리다': 3969, '건배': 3970, '아수스': 3971, '포맷': 3972, '공용': 3973, '테이프': 3974, '렌치': 3975, '스릴러': 3976, '코끼리': 3977, '센스': 3978, '뿅': 3979, '이끌다': 3980, '최소한': 3981, '신문': 3982, '방울': 3983, '입도': 3984, '치약': 3985, '여서': 3986, '킬로그램': 3987, '코쿠닝': 3988, '퀘': 3989, '이혼': 3990, '챙기다': 3991, '충분': 3992, '바이': 3993, '장담': 3994, '황혼': 3995, '퍼즐': 3996, '계단': 3997, '피다': 3998, '관계': 3999, '입출금': 4000, '재활용': 4001, '쓰이다': 4002, '톨레도': 4003, '수영복': 4004, '제일': 4005, '화산': 4006, '분화': 4007, '쓰나미': 4008, '허리케인': 4009, '재해': 4010, '라이터': 4011, '의과': 4012, '라자냐': 4013, '호기심': 4014, '설탕': 4015, '거립니': 4016, '마디': 4017, '탭': 4018, '운하': 4019, '넓다': 4020, '엣지': 4021, '동쪽': 4022, '아야': 4023, '뮤지컬': 4024, '접시': 4025, '굶주리다': 4026, '속임수': 4027, '지방질': 4028, '빚진': 4029, '주유소': 4030, '블록': 4031, '아르메니아': 4032, '스완': 4033, '정당화': 4034, '겨우': 4035, '죽지': 4036, '오늘이': 4037, '펍': 4038, '탁아': 4039, '엽서': 4040, '위반': 4041, '켈': 4042, '루비': 4043, '부정': 4044, '마련': 4045, '트론': 4046}\n"
          ],
          "name": "stdout"
        }
      ]
    },
    {
      "cell_type": "code",
      "metadata": {
        "colab": {
          "base_uri": "https://localhost:8080/"
        },
        "id": "K2_R6HnJFf0U",
        "outputId": "d1797cb7-7597-4d4f-bcab-0dbbd35f2689"
      },
      "source": [
        "threshold = 3\n",
        "total_cnt = len(tokenizer.word_index) # 단어의 수\n",
        "rare_cnt = 0 # 등장 빈도수가 threshold보다 작은 단어의 개수를 카운트\n",
        "total_freq = 0 # 훈련 데이터의 전체 단어 빈도수 총 합\n",
        "rare_freq = 0 # 등장 빈도수가 threshold보다 작은 단어의 등장 빈도수의 총 합\n",
        "\n",
        "# 단어와 빈도수의 쌍(pair)을 key와 value로 받는다.\n",
        "for key, value in tokenizer.word_counts.items():\n",
        "    total_freq = total_freq + value\n",
        "\n",
        "    # 단어의 등장 빈도수가 threshold보다 작으면\n",
        "    if(value < threshold):\n",
        "        rare_cnt = rare_cnt + 1\n",
        "        rare_freq = rare_freq + value\n",
        "\n",
        "print('단어 집합(vocabulary)의 크기 :',total_cnt)\n",
        "print('등장 빈도가 %s번 이하인 희귀 단어의 수: %s'%(threshold - 1, rare_cnt))\n",
        "print(\"단어 집합에서 희귀 단어의 비율:\", (rare_cnt / total_cnt)*100)\n",
        "print(\"전체 등장 빈도에서 희귀 단어 등장 빈도 비율:\", (rare_freq / total_freq)*100)"
      ],
      "execution_count": 95,
      "outputs": [
        {
          "output_type": "stream",
          "text": [
            "단어 집합(vocabulary)의 크기 : 4046\n",
            "등장 빈도가 2번 이하인 희귀 단어의 수: 2468\n",
            "단어 집합에서 희귀 단어의 비율: 60.99851705388038\n",
            "전체 등장 빈도에서 희귀 단어 등장 빈도 비율: 9.459664451928036\n"
          ],
          "name": "stdout"
        }
      ]
    },
    {
      "cell_type": "code",
      "metadata": {
        "colab": {
          "base_uri": "https://localhost:8080/"
        },
        "id": "Mz60ws4FFf0U",
        "outputId": "828c678b-f077-45dc-bdeb-5462148718a1"
      },
      "source": [
        "# 전체 단어 개수 중 빈도수 2이하인 단어 개수는 제거.\n",
        "# 0번 패딩 토큰과 1번 OOV 토큰을 고려하여 +2\n",
        "vocab_size = total_cnt - rare_cnt + 2\n",
        "print('단어 집합의 크기 :',vocab_size)"
      ],
      "execution_count": 96,
      "outputs": [
        {
          "output_type": "stream",
          "text": [
            "단어 집합의 크기 : 1580\n"
          ],
          "name": "stdout"
        }
      ]
    },
    {
      "cell_type": "code",
      "metadata": {
        "id": "b9NkgjOqFf0U"
      },
      "source": [
        "tokenizer = Tokenizer(vocab_size, oov_token = 'OOV') \n",
        "tokenizer.fit_on_texts(X_train)\n",
        "X_train = tokenizer.texts_to_sequences(X_train)\n",
        "X_test = tokenizer.texts_to_sequences(X_test)"
      ],
      "execution_count": 97,
      "outputs": []
    },
    {
      "cell_type": "code",
      "metadata": {
        "colab": {
          "base_uri": "https://localhost:8080/"
        },
        "id": "O_Ejo2k2Ff0U",
        "outputId": "d634b2b3-a9b0-4055-b531-66d52f7f783a"
      },
      "source": [
        "print(X_train[:3])"
      ],
      "execution_count": 98,
      "outputs": [
        {
          "output_type": "stream",
          "text": [
            "[[345, 163, 1, 1, 745, 221, 95, 81], [130, 1, 1, 83, 1, 26, 459, 26, 1031, 424, 1, 1, 1258, 1, 460, 1, 1, 148, 1259, 54, 65, 149, 52, 70, 371], [36, 25, 1, 1, 95]]\n"
          ],
          "name": "stdout"
        }
      ]
    },
    {
      "cell_type": "code",
      "metadata": {
        "id": "MaLgg5uVFf0U"
      },
      "source": [
        "y_train = np.array(train_data['label'])\n",
        "y_test = np.array(test_data['label'])"
      ],
      "execution_count": 99,
      "outputs": []
    },
    {
      "cell_type": "code",
      "metadata": {
        "id": "B51Q6evRFf0U"
      },
      "source": [
        "drop_train = [index for index, sentence in enumerate(X_train) if len(sentence) < 1]"
      ],
      "execution_count": 100,
      "outputs": []
    },
    {
      "cell_type": "code",
      "metadata": {
        "colab": {
          "base_uri": "https://localhost:8080/"
        },
        "id": "tyh1s4YtFf0V",
        "outputId": "fd39ec58-2ddc-48ec-f5b7-2a77072d4bd0"
      },
      "source": [
        "# 빈 샘플들을 제거\n",
        "X_train = np.delete(X_train, drop_train, axis=0)\n",
        "y_train = np.delete(y_train, drop_train, axis=0)\n",
        "print(len(X_train))\n",
        "print(len(y_train))"
      ],
      "execution_count": 101,
      "outputs": [
        {
          "output_type": "stream",
          "text": [
            "3023\n",
            "3023\n"
          ],
          "name": "stdout"
        },
        {
          "output_type": "stream",
          "text": [
            "/usr/local/lib/python3.6/dist-packages/numpy/core/_asarray.py:83: VisibleDeprecationWarning: Creating an ndarray from ragged nested sequences (which is a list-or-tuple of lists-or-tuples-or ndarrays with different lengths or shapes) is deprecated. If you meant to do this, you must specify 'dtype=object' when creating the ndarray\n",
            "  return array(a, dtype, copy=False, order=order)\n"
          ],
          "name": "stderr"
        }
      ]
    },
    {
      "cell_type": "code",
      "metadata": {
        "colab": {
          "base_uri": "https://localhost:8080/",
          "height": 315
        },
        "id": "K7Em1FIJFf0V",
        "outputId": "6df48ddf-bed2-4243-b68d-2f89421acfc9"
      },
      "source": [
        "print('리뷰의 최대 길이 :',max(len(l) for l in X_train))\n",
        "print('리뷰의 평균 길이 :',sum(map(len, X_train))/len(X_train))\n",
        "plt.hist([len(s) for s in X_train], bins=50)\n",
        "plt.xlabel('length of samples')\n",
        "plt.ylabel('number of samples')\n",
        "plt.show()"
      ],
      "execution_count": 102,
      "outputs": [
        {
          "output_type": "stream",
          "text": [
            "리뷰의 최대 길이 : 172\n",
            "리뷰의 평균 길이 : 10.903407211379424\n"
          ],
          "name": "stdout"
        },
        {
          "output_type": "display_data",
          "data": {
            "image/png": "[encoded data removed]",
            "text/plain": [
              "<Figure size 432x288 with 1 Axes>"
            ]
          },
          "metadata": {
            "tags": [],
            "needs_background": "light"
          }
        }
      ]
    },
    {
      "cell_type": "code",
      "metadata": {
        "id": "n3VNg6F6Ff0V"
      },
      "source": [
        "def below_threshold_len(max_len, nested_list):\n",
        "  cnt = 0\n",
        "  for s in nested_list:\n",
        "    if(len(s) <= max_len):\n",
        "        cnt = cnt + 1\n",
        "  print('전체 샘플 중 길이가 %s 이하인 샘플의 비율: %s'%(max_len, (cnt / len(nested_list))*100))"
      ],
      "execution_count": 103,
      "outputs": []
    },
    {
      "cell_type": "code",
      "metadata": {
        "colab": {
          "base_uri": "https://localhost:8080/"
        },
        "id": "0g_k3bitFf0V",
        "outputId": "f8994443-9c1f-44e1-cd28-28acd2654f5c"
      },
      "source": [
        "max_len = 30\n",
        "below_threshold_len(max_len, X_train)"
      ],
      "execution_count": 105,
      "outputs": [
        {
          "output_type": "stream",
          "text": [
            "전체 샘플 중 길이가 30 이하인 샘플의 비율: 98.21369500496195\n"
          ],
          "name": "stdout"
        }
      ]
    },
    {
      "cell_type": "code",
      "metadata": {
        "id": "iN0lQQg9gxG7"
      },
      "source": [
        "X_train = pad_sequences(X_train, maxlen = max_len)\r\n",
        "X_test = pad_sequences(X_test, maxlen = max_len)"
      ],
      "execution_count": 106,
      "outputs": []
    },
    {
      "cell_type": "code",
      "metadata": {
        "id": "jPUFCUtiFf0V"
      },
      "source": [
        "from tensorflow.keras.layers import Embedding, Dense, LSTM\n",
        "from tensorflow.keras.models import Sequential\n",
        "from tensorflow.keras.models import load_model\n",
        "from tensorflow.keras.callbacks import EarlyStopping, ModelCheckpoint"
      ],
      "execution_count": 107,
      "outputs": []
    },
    {
      "cell_type": "code",
      "metadata": {
        "id": "xvUHkpg7Ff0V"
      },
      "source": [
        "model = Sequential()\n",
        "# model.add(Embedding(vocab_size, 100))\n",
        "# model.add(LSTM(128))\n",
        "model.add(Embedding(vocab_size, 32)) # 임베딩 벡터의 차원은 32\n",
        "model.add(LSTM(32))\n",
        "model.add(Dense(1, activation='sigmoid'))\n",
        "\n"
      ],
      "execution_count": 108,
      "outputs": []
    },
    {
      "cell_type": "code",
      "metadata": {
        "id": "3Hkj-AFEFf0V"
      },
      "source": [
        "es = EarlyStopping(monitor='val_loss', mode='min', verbose=1, patience=4)\n",
        "mc = ModelCheckpoint('best_model.h5', monitor='val_acc', mode='max', verbose=1, save_best_only=True)"
      ],
      "execution_count": 109,
      "outputs": []
    },
    {
      "cell_type": "code",
      "metadata": {
        "colab": {
          "base_uri": "https://localhost:8080/"
        },
        "id": "Y6sSpPZ7Ff0W",
        "outputId": "3f12d5e8-b073-45d0-d026-931c9ce98460"
      },
      "source": [
        "model.compile(optimizer='rmsprop', loss='binary_crossentropy', metrics=['acc'])\n",
        "history = model.fit(X_train, y_train, epochs=15, callbacks=[es, mc], batch_size=60, validation_split=0.2)\n",
        "# history = model.fit(X_train, y_train, epochs=4, batch_size=64, validation_split=0.2)"
      ],
      "execution_count": 110,
      "outputs": [
        {
          "output_type": "stream",
          "text": [
            "Epoch 1/15\n",
            "41/41 [==============================] - 2s 16ms/step - loss: 0.4829 - acc: 0.8558 - val_loss: 0.2337 - val_acc: 0.9025\n",
            "\n",
            "Epoch 00001: val_acc improved from -inf to 0.90248, saving model to best_model.h5\n",
            "Epoch 2/15\n",
            "41/41 [==============================] - 0s 8ms/step - loss: 0.2270 - acc: 0.8983 - val_loss: 0.1754 - val_acc: 0.9405\n",
            "\n",
            "Epoch 00002: val_acc improved from 0.90248 to 0.94050, saving model to best_model.h5\n",
            "Epoch 3/15\n",
            "41/41 [==============================] - 0s 8ms/step - loss: 0.1599 - acc: 0.9486 - val_loss: 0.1391 - val_acc: 0.9587\n",
            "\n",
            "Epoch 00003: val_acc improved from 0.94050 to 0.95868, saving model to best_model.h5\n",
            "Epoch 4/15\n",
            "41/41 [==============================] - 0s 7ms/step - loss: 0.1095 - acc: 0.9718 - val_loss: 0.1745 - val_acc: 0.9603\n",
            "\n",
            "Epoch 00004: val_acc improved from 0.95868 to 0.96033, saving model to best_model.h5\n",
            "Epoch 5/15\n",
            "41/41 [==============================] - 0s 7ms/step - loss: 0.0799 - acc: 0.9758 - val_loss: 0.1121 - val_acc: 0.9686\n",
            "\n",
            "Epoch 00005: val_acc improved from 0.96033 to 0.96860, saving model to best_model.h5\n",
            "Epoch 6/15\n",
            "41/41 [==============================] - 0s 6ms/step - loss: 0.0625 - acc: 0.9807 - val_loss: 0.1144 - val_acc: 0.9736\n",
            "\n",
            "Epoch 00006: val_acc improved from 0.96860 to 0.97355, saving model to best_model.h5\n",
            "Epoch 7/15\n",
            "41/41 [==============================] - 0s 7ms/step - loss: 0.0655 - acc: 0.9804 - val_loss: 0.1240 - val_acc: 0.9719\n",
            "\n",
            "Epoch 00007: val_acc did not improve from 0.97355\n",
            "Epoch 8/15\n",
            "41/41 [==============================] - 0s 7ms/step - loss: 0.0524 - acc: 0.9875 - val_loss: 0.1277 - val_acc: 0.9636\n",
            "\n",
            "Epoch 00008: val_acc did not improve from 0.97355\n",
            "Epoch 9/15\n",
            "41/41 [==============================] - 0s 7ms/step - loss: 0.0383 - acc: 0.9862 - val_loss: 0.1198 - val_acc: 0.9702\n",
            "\n",
            "Epoch 00009: val_acc did not improve from 0.97355\n",
            "Epoch 00009: early stopping\n"
          ],
          "name": "stdout"
        }
      ]
    },
    {
      "cell_type": "code",
      "metadata": {
        "id": "ntYxcSSZFf0W",
        "colab": {
          "base_uri": "https://localhost:8080/"
        },
        "outputId": "13870422-2914-41bd-c15a-459baf6081dc"
      },
      "source": [
        "loaded_model = load_model('best_model.h5')\n",
        "print(\"\\n 테스트 정확도: %.4f\" % (loaded_model.evaluate(X_test, y_test)[1]))"
      ],
      "execution_count": 111,
      "outputs": [
        {
          "output_type": "stream",
          "text": [
            "31/31 [==============================] - 0s 3ms/step - loss: 0.1099 - acc: 0.9734\n",
            "\n",
            " 테스트 정확도: 0.9734\n"
          ],
          "name": "stdout"
        }
      ]
    },
    {
      "cell_type": "code",
      "metadata": {
        "id": "RiKOQ-CyFf0W"
      },
      "source": [
        "def sentiment_predict(new_sentence):\n",
        "  new_sentence = okt.morphs(new_sentence, stem=True) # 토큰화\n",
        "  new_sentence = [word for word in new_sentence if not word in stopwords] # 불용어 제거\n",
        "  encoded = tokenizer.texts_to_sequences([new_sentence]) # 정수 인코딩\n",
        "  pad_new = pad_sequences(encoded, maxlen = max_len) # 패딩\n",
        "  score = float(loaded_model.predict(pad_new)) # 예측\n",
        "  if(score > 0.5):\n",
        "    print(\"{:.2f}% 확률로 스팸입니다.\\n\".format(score * 100))\n",
        "  else:\n",
        "    print(\"{:.2f}% 확률로 스팸이 아닙니다.\\n\".format((1 - score) * 100))"
      ],
      "execution_count": 129,
      "outputs": []
    },
    {
      "cell_type": "code",
      "metadata": {
        "id": "vj-hLIXsFf0W",
        "colab": {
          "base_uri": "https://localhost:8080/"
        },
        "outputId": "642d7fae-e596-4c80-9e28-89f6d8be81a8"
      },
      "source": [
        "sentiment_predict('이 영화 개꿀잼 ㅋㅋㅋ')"
      ],
      "execution_count": 130,
      "outputs": [
        {
          "output_type": "stream",
          "text": [
            "99.54% 확률로 스팸이 아닙니다.\n",
            "\n"
          ],
          "name": "stdout"
        }
      ]
    },
    {
      "cell_type": "code",
      "metadata": {
        "id": "1u4weLwRFf0W",
        "colab": {
          "base_uri": "https://localhost:8080/"
        },
        "outputId": "75a31c53-74de-4bf9-e772-35e0b4ce834d"
      },
      "source": [
        "sentiment_predict('이 영화 핵노잼 ㅠㅠ')"
      ],
      "execution_count": 131,
      "outputs": [
        {
          "output_type": "stream",
          "text": [
            "99.62% 확률로 스팸이 아닙니다.\n",
            "\n"
          ],
          "name": "stdout"
        }
      ]
    },
    {
      "cell_type": "code",
      "metadata": {
        "id": "QEjkwYpLFf0W",
        "colab": {
          "base_uri": "https://localhost:8080/"
        },
        "outputId": "9ade0b92-0808-4a3c-d6da-2a05013acc9b"
      },
      "source": [
        "sentiment_predict('존노잼')"
      ],
      "execution_count": 132,
      "outputs": [
        {
          "output_type": "stream",
          "text": [
            "98.94% 확률로 스팸이 아닙니다.\n",
            "\n"
          ],
          "name": "stdout"
        }
      ]
    },
    {
      "cell_type": "code",
      "metadata": {
        "id": "CnLEnpr3Ff0X",
        "colab": {
          "base_uri": "https://localhost:8080/"
        },
        "outputId": "1c7b67e7-2ecf-4956-9a99-f50a022a57a7"
      },
      "source": [
        "sentiment_predict('감독 뭐하는 놈이냐?')"
      ],
      "execution_count": 133,
      "outputs": [
        {
          "output_type": "stream",
          "text": [
            "99.71% 확률로 스팸이 아닙니다.\n",
            "\n"
          ],
          "name": "stdout"
        }
      ]
    },
    {
      "cell_type": "code",
      "metadata": {
        "id": "_w_K2jYeFf0X",
        "colab": {
          "base_uri": "https://localhost:8080/"
        },
        "outputId": "76d4cbed-76e8-4964-9889-bcedd20979aa"
      },
      "source": [
        "sentiment_predict('와 개쩐다 정말 세계관 최강자들의 영화다')"
      ],
      "execution_count": 135,
      "outputs": [
        {
          "output_type": "stream",
          "text": [
            "99.69% 확률로 스팸이 아닙니다.\n",
            "\n"
          ],
          "name": "stdout"
        }
      ]
    },
    {
      "cell_type": "code",
      "metadata": {
        "colab": {
          "base_uri": "https://localhost:8080/"
        },
        "id": "jyAndzHiivuA",
        "outputId": "a61c3779-8d95-492f-a4ca-1f37c9dd90a0"
      },
      "source": [
        "sentiment_predict('''[Web발신]\r\n",
        "[긴급재난자금] 상품권이 도착했습니다.\r\n",
        "확인해주세요. https://bit.ly/3aSTMel''')"
      ],
      "execution_count": 134,
      "outputs": [
        {
          "output_type": "stream",
          "text": [
            "96.56% 확률로 스팸이 아닙니다.\n",
            "\n"
          ],
          "name": "stdout"
        }
      ]
    },
    {
      "cell_type": "code",
      "metadata": {
        "colab": {
          "base_uri": "https://localhost:8080/"
        },
        "id": "oe6ijRYUUqei",
        "outputId": "bbdd24ca-9b48-437f-8a4e-42aa8c1dc5ce"
      },
      "source": [
        "sentiment_predict('광고가 아닙니다.')"
      ],
      "execution_count": 136,
      "outputs": [
        {
          "output_type": "stream",
          "text": [
            "99.18% 확률로 스팸이 아닙니다.\n",
            "\n"
          ],
          "name": "stdout"
        }
      ]
    },
    {
      "cell_type": "code",
      "metadata": {
        "id": "yXbP581dVCFS"
      },
      "source": [
        ""
      ],
      "execution_count": null,
      "outputs": []
    }
  ]
}